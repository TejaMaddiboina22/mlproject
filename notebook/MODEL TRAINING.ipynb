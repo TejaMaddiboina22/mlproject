{
 "cells": [
  {
   "cell_type": "code",
   "execution_count": 6,
   "id": "cb606283",
   "metadata": {},
   "outputs": [],
   "source": [
    "import numpy as np\n",
    "import pandas as pd\n",
    "import seaborn as sns\n",
    "import matplotlib.pyplot as plt\n",
    "#Modeling\n",
    "from sklearn.metrics import mean_squared_error, mean_absolute_error, r2_score\n",
    "from sklearn.neighbors import KNeighborsRegressor\n",
    "from sklearn.tree import DecisionTreeRegressor\n",
    "from sklearn.ensemble import RandomForestRegressor,AdaBoostRegressor\n",
    "from sklearn.svm import SVR\n",
    "from sklearn.linear_model import LinearRegression, Ridge, Lasso\n",
    "from sklearn.metrics import r2_score,mean_absolute_error,mean_squared_error\n",
    "from sklearn.model_selection import RandomizedSearchCV \n",
    "from catboost import CatBoostRegressor\n",
    "from xgboost import XGBRegressor\n",
    "import warnings"
   ]
  },
  {
   "cell_type": "code",
   "execution_count": 8,
   "id": "cacf683a",
   "metadata": {},
   "outputs": [],
   "source": [
    "df=pd.read_csv('C:\\\\Project_git\\\\MLproject\\\\notebook\\\\data\\\\StudentsPerformance.csv')"
   ]
  },
  {
   "cell_type": "code",
   "execution_count": 9,
   "id": "cb805ff2",
   "metadata": {},
   "outputs": [
    {
     "data": {
      "text/html": [
       "<div>\n",
       "<style scoped>\n",
       "    .dataframe tbody tr th:only-of-type {\n",
       "        vertical-align: middle;\n",
       "    }\n",
       "\n",
       "    .dataframe tbody tr th {\n",
       "        vertical-align: top;\n",
       "    }\n",
       "\n",
       "    .dataframe thead th {\n",
       "        text-align: right;\n",
       "    }\n",
       "</style>\n",
       "<table border=\"1\" class=\"dataframe\">\n",
       "  <thead>\n",
       "    <tr style=\"text-align: right;\">\n",
       "      <th></th>\n",
       "      <th>gender</th>\n",
       "      <th>race/ethnicity</th>\n",
       "      <th>parental level of education</th>\n",
       "      <th>lunch</th>\n",
       "      <th>test preparation course</th>\n",
       "      <th>math score</th>\n",
       "      <th>reading score</th>\n",
       "      <th>writing score</th>\n",
       "    </tr>\n",
       "  </thead>\n",
       "  <tbody>\n",
       "    <tr>\n",
       "      <th>0</th>\n",
       "      <td>female</td>\n",
       "      <td>group B</td>\n",
       "      <td>bachelor's degree</td>\n",
       "      <td>standard</td>\n",
       "      <td>none</td>\n",
       "      <td>72</td>\n",
       "      <td>72</td>\n",
       "      <td>74</td>\n",
       "    </tr>\n",
       "    <tr>\n",
       "      <th>1</th>\n",
       "      <td>female</td>\n",
       "      <td>group C</td>\n",
       "      <td>some college</td>\n",
       "      <td>standard</td>\n",
       "      <td>completed</td>\n",
       "      <td>69</td>\n",
       "      <td>90</td>\n",
       "      <td>88</td>\n",
       "    </tr>\n",
       "    <tr>\n",
       "      <th>2</th>\n",
       "      <td>female</td>\n",
       "      <td>group B</td>\n",
       "      <td>master's degree</td>\n",
       "      <td>standard</td>\n",
       "      <td>none</td>\n",
       "      <td>90</td>\n",
       "      <td>95</td>\n",
       "      <td>93</td>\n",
       "    </tr>\n",
       "    <tr>\n",
       "      <th>3</th>\n",
       "      <td>male</td>\n",
       "      <td>group A</td>\n",
       "      <td>associate's degree</td>\n",
       "      <td>free/reduced</td>\n",
       "      <td>none</td>\n",
       "      <td>47</td>\n",
       "      <td>57</td>\n",
       "      <td>44</td>\n",
       "    </tr>\n",
       "    <tr>\n",
       "      <th>4</th>\n",
       "      <td>male</td>\n",
       "      <td>group C</td>\n",
       "      <td>some college</td>\n",
       "      <td>standard</td>\n",
       "      <td>none</td>\n",
       "      <td>76</td>\n",
       "      <td>78</td>\n",
       "      <td>75</td>\n",
       "    </tr>\n",
       "  </tbody>\n",
       "</table>\n",
       "</div>"
      ],
      "text/plain": [
       "   gender race/ethnicity parental level of education         lunch   \n",
       "0  female        group B           bachelor's degree      standard  \\\n",
       "1  female        group C                some college      standard   \n",
       "2  female        group B             master's degree      standard   \n",
       "3    male        group A          associate's degree  free/reduced   \n",
       "4    male        group C                some college      standard   \n",
       "\n",
       "  test preparation course  math score  reading score  writing score  \n",
       "0                    none          72             72             74  \n",
       "1               completed          69             90             88  \n",
       "2                    none          90             95             93  \n",
       "3                    none          47             57             44  \n",
       "4                    none          76             78             75  "
      ]
     },
     "execution_count": 9,
     "metadata": {},
     "output_type": "execute_result"
    }
   ],
   "source": [
    "df.head()"
   ]
  },
  {
   "cell_type": "code",
   "execution_count": 12,
   "id": "ea21d217",
   "metadata": {},
   "outputs": [],
   "source": [
    "X= df.drop(columns=['math score'],axis=1)\n"
   ]
  },
  {
   "cell_type": "code",
   "execution_count": 13,
   "id": "fd4bab48",
   "metadata": {},
   "outputs": [],
   "source": [
    "y= df['math score']"
   ]
  },
  {
   "cell_type": "code",
   "execution_count": 15,
   "id": "b603983f",
   "metadata": {},
   "outputs": [],
   "source": [
    "#create ColumnTransformer with 3 types of transformers\n",
    "num_features =X.select_dtypes(exclude=['object']).columns\n",
    "cat_features = X.select_dtypes(include=['object']).columns  \n",
    "from sklearn.preprocessing import OneHotEncoder, StandardScaler\n",
    "from sklearn.compose import ColumnTransformer \n",
    " \n",
    "numeric_transformer = StandardScaler() \n",
    "oh_transformer = OneHotEncoder() \n",
    "\n",
    "preprocessor = ColumnTransformer(\n",
    "    transformers=[\n",
    "        (\"OneHotEncoder\", oh_transformer, cat_features),\n",
    "        (\"StandardScaler\", numeric_transformer, num_features)\n",
    "    ]\n",
    ")\n",
    "\n"
   ]
  },
  {
   "cell_type": "code",
   "execution_count": 19,
   "id": "94c86f93",
   "metadata": {},
   "outputs": [
    {
     "data": {
      "text/plain": [
       "0    72\n",
       "1    69\n",
       "2    90\n",
       "3    47\n",
       "4    76\n",
       "Name: math score, dtype: int64"
      ]
     },
     "execution_count": 19,
     "metadata": {},
     "output_type": "execute_result"
    }
   ],
   "source": [
    "y.head()"
   ]
  },
  {
   "cell_type": "code",
   "execution_count": 17,
   "id": "f38f0d1c",
   "metadata": {},
   "outputs": [
    {
     "data": {
      "text/html": [
       "<div>\n",
       "<style scoped>\n",
       "    .dataframe tbody tr th:only-of-type {\n",
       "        vertical-align: middle;\n",
       "    }\n",
       "\n",
       "    .dataframe tbody tr th {\n",
       "        vertical-align: top;\n",
       "    }\n",
       "\n",
       "    .dataframe thead th {\n",
       "        text-align: right;\n",
       "    }\n",
       "</style>\n",
       "<table border=\"1\" class=\"dataframe\">\n",
       "  <thead>\n",
       "    <tr style=\"text-align: right;\">\n",
       "      <th></th>\n",
       "      <th>gender</th>\n",
       "      <th>race/ethnicity</th>\n",
       "      <th>parental level of education</th>\n",
       "      <th>lunch</th>\n",
       "      <th>test preparation course</th>\n",
       "      <th>reading score</th>\n",
       "      <th>writing score</th>\n",
       "    </tr>\n",
       "  </thead>\n",
       "  <tbody>\n",
       "    <tr>\n",
       "      <th>0</th>\n",
       "      <td>female</td>\n",
       "      <td>group B</td>\n",
       "      <td>bachelor's degree</td>\n",
       "      <td>standard</td>\n",
       "      <td>none</td>\n",
       "      <td>72</td>\n",
       "      <td>74</td>\n",
       "    </tr>\n",
       "    <tr>\n",
       "      <th>1</th>\n",
       "      <td>female</td>\n",
       "      <td>group C</td>\n",
       "      <td>some college</td>\n",
       "      <td>standard</td>\n",
       "      <td>completed</td>\n",
       "      <td>90</td>\n",
       "      <td>88</td>\n",
       "    </tr>\n",
       "    <tr>\n",
       "      <th>2</th>\n",
       "      <td>female</td>\n",
       "      <td>group B</td>\n",
       "      <td>master's degree</td>\n",
       "      <td>standard</td>\n",
       "      <td>none</td>\n",
       "      <td>95</td>\n",
       "      <td>93</td>\n",
       "    </tr>\n",
       "    <tr>\n",
       "      <th>3</th>\n",
       "      <td>male</td>\n",
       "      <td>group A</td>\n",
       "      <td>associate's degree</td>\n",
       "      <td>free/reduced</td>\n",
       "      <td>none</td>\n",
       "      <td>57</td>\n",
       "      <td>44</td>\n",
       "    </tr>\n",
       "    <tr>\n",
       "      <th>4</th>\n",
       "      <td>male</td>\n",
       "      <td>group C</td>\n",
       "      <td>some college</td>\n",
       "      <td>standard</td>\n",
       "      <td>none</td>\n",
       "      <td>78</td>\n",
       "      <td>75</td>\n",
       "    </tr>\n",
       "  </tbody>\n",
       "</table>\n",
       "</div>"
      ],
      "text/plain": [
       "   gender race/ethnicity parental level of education         lunch   \n",
       "0  female        group B           bachelor's degree      standard  \\\n",
       "1  female        group C                some college      standard   \n",
       "2  female        group B             master's degree      standard   \n",
       "3    male        group A          associate's degree  free/reduced   \n",
       "4    male        group C                some college      standard   \n",
       "\n",
       "  test preparation course  reading score  writing score  \n",
       "0                    none             72             74  \n",
       "1               completed             90             88  \n",
       "2                    none             95             93  \n",
       "3                    none             57             44  \n",
       "4                    none             78             75  "
      ]
     },
     "execution_count": 17,
     "metadata": {},
     "output_type": "execute_result"
    }
   ],
   "source": [
    "X.head()"
   ]
  },
  {
   "cell_type": "code",
   "execution_count": 21,
   "id": "8cf433be",
   "metadata": {},
   "outputs": [],
   "source": [
    "X = preprocessor.fit_transform(X) #preprocess the data"
   ]
  },
  {
   "cell_type": "code",
   "execution_count": 22,
   "id": "f0b491ff",
   "metadata": {},
   "outputs": [
    {
     "data": {
      "text/plain": [
       "(1000, 19)"
      ]
     },
     "execution_count": 22,
     "metadata": {},
     "output_type": "execute_result"
    }
   ],
   "source": [
    "X.shape"
   ]
  },
  {
   "cell_type": "code",
   "execution_count": 24,
   "id": "1550cd6a",
   "metadata": {},
   "outputs": [
    {
     "data": {
      "text/plain": [
       "((800, 19), (200, 19), (800,), (200,))"
      ]
     },
     "execution_count": 24,
     "metadata": {},
     "output_type": "execute_result"
    }
   ],
   "source": [
    "#seperate the data into train and test sets \n",
    "from sklearn.model_selection import train_test_split\n",
    "\n",
    "X_train, X_test, y_train, y_test = train_test_split(X, y, test_size=0.2, random_state=42)\n",
    "X_train.shape, X_test.shape, y_train.shape, y_test.shape"
   ]
  },
  {
   "cell_type": "code",
   "execution_count": 25,
   "id": "70407e42",
   "metadata": {},
   "outputs": [],
   "source": [
    "#create a function to evaluate the models\n",
    "\n",
    "def evaluate_model(true, pred):\n",
    "    mae= mean_absolute_error(true, pred)\n",
    "    mse= mean_squared_error(true, pred) \n",
    "    rmse= np.sqrt(mse)\n",
    "    r2_square= r2_score(true, pred)\n",
    "    return mae, mse, rmse, r2_square"
   ]
  },
  {
   "cell_type": "code",
   "execution_count": 28,
   "id": "b46015c1",
   "metadata": {},
   "outputs": [
    {
     "name": "stdout",
     "output_type": "stream",
     "text": [
      "LinearRegression\n",
      "Model performance on train set\n",
      "- Root Mean Squared Error:5.3231 \n",
      "- Mean Absolute Error: 4.2667\n",
      "- R2 Score: 0.8743\n",
      "===================================\n",
      "\n",
      "\n",
      "Lasso\n",
      "Model performance on train set\n",
      "- Root Mean Squared Error:6.5938 \n",
      "- Mean Absolute Error: 5.2063\n",
      "- R2 Score: 0.8071\n",
      "===================================\n",
      "\n",
      "\n",
      "Ridge\n",
      "Model performance on train set\n",
      "- Root Mean Squared Error:5.3233 \n",
      "- Mean Absolute Error: 4.2650\n",
      "- R2 Score: 0.8743\n",
      "===================================\n",
      "\n",
      "\n",
      "KNeighborsRegressor\n",
      "Model performance on train set\n",
      "- Root Mean Squared Error:5.7092 \n",
      "- Mean Absolute Error: 4.5180\n",
      "- R2 Score: 0.8554\n",
      "===================================\n",
      "\n",
      "\n",
      "DecisionTreeRegressor\n",
      "Model performance on train set\n",
      "- Root Mean Squared Error:0.2795 \n",
      "- Mean Absolute Error: 0.0187\n",
      "- R2 Score: 0.9997\n",
      "===================================\n",
      "\n",
      "\n",
      "RandomForestRegressor\n",
      "Model performance on train set\n",
      "- Root Mean Squared Error:2.3098 \n",
      "- Mean Absolute Error: 1.8343\n",
      "- R2 Score: 0.9763\n",
      "===================================\n",
      "\n",
      "\n",
      "AdaBoostRegressor\n",
      "Model performance on train set\n",
      "- Root Mean Squared Error:5.7991 \n",
      "- Mean Absolute Error: 4.7554\n",
      "- R2 Score: 0.8508\n",
      "===================================\n",
      "\n",
      "\n",
      "CatBoostRegressor\n",
      "Model performance on train set\n",
      "- Root Mean Squared Error:3.0427 \n",
      "- Mean Absolute Error: 2.4054\n",
      "- R2 Score: 0.9589\n",
      "===================================\n",
      "\n",
      "\n",
      "XGBRegressor\n",
      "Model performance on train set\n",
      "- Root Mean Squared Error:1.0073 \n",
      "- Mean Absolute Error: 0.6875\n",
      "- R2 Score: 0.9955\n",
      "===================================\n",
      "\n",
      "\n"
     ]
    }
   ],
   "source": [
    "models={\n",
    "    \"LinearRegression\": LinearRegression(),\n",
    "    \"Lasso\": Lasso(),\n",
    "    \"Ridge\": Ridge(),\n",
    "    \"KNeighborsRegressor\": KNeighborsRegressor(),\n",
    "    \"DecisionTreeRegressor\": DecisionTreeRegressor(),\n",
    "    \"RandomForestRegressor\": RandomForestRegressor(),\n",
    "    \"AdaBoostRegressor\": AdaBoostRegressor(),   \n",
    "    \"CatBoostRegressor\": CatBoostRegressor(verbose=0),\n",
    "    \"XGBRegressor\": XGBRegressor(),\n",
    "}\n",
    "model_list = []\n",
    "r2_list = []\n",
    "\n",
    "for i in range(len(list(models))):\n",
    "    model = list(models.values())[i]\n",
    "    model_name = list(models.keys())[i]\n",
    "    model.fit(X_train, y_train)\n",
    "    \n",
    "    y_train_pred = model.predict(X_train)\n",
    "    y_test_pred = model.predict(X_test)\n",
    "\n",
    "    model_train_mae, model_train_mse, model_train_rmse, model_train_r2 = evaluate_model(y_train, y_train_pred)\n",
    "    model_test_mae, _, model_test_rmse, model_test_r2 = evaluate_model(y_test, y_test_pred)\n",
    "\n",
    "\n",
    "    print(list(models.keys())[i])\n",
    "    model_list.append(list(models.keys())[i])\n",
    "    print(\"Model performance on train set\")\n",
    "    print(\"- Root Mean Squared Error:{:.4f} \".format(model_train_rmse))\n",
    "    print(\"- Mean Absolute Error: {:.4f}\".format(model_train_mae))\n",
    "    print(\"- R2 Score: {:.4f}\".format(model_train_r2))\n",
    "    r2_list.append(model_train_r2)\n",
    "\n",
    "    print('='*35)\n",
    "    print('\\n')\n",
    "\n"
   ]
  },
  {
   "cell_type": "code",
   "execution_count": 30,
   "id": "c36dac96",
   "metadata": {},
   "outputs": [
    {
     "data": {
      "text/html": [
       "<div>\n",
       "<style scoped>\n",
       "    .dataframe tbody tr th:only-of-type {\n",
       "        vertical-align: middle;\n",
       "    }\n",
       "\n",
       "    .dataframe tbody tr th {\n",
       "        vertical-align: top;\n",
       "    }\n",
       "\n",
       "    .dataframe thead th {\n",
       "        text-align: right;\n",
       "    }\n",
       "</style>\n",
       "<table border=\"1\" class=\"dataframe\">\n",
       "  <thead>\n",
       "    <tr style=\"text-align: right;\">\n",
       "      <th></th>\n",
       "      <th>Model</th>\n",
       "      <th>R2 Score</th>\n",
       "    </tr>\n",
       "  </thead>\n",
       "  <tbody>\n",
       "    <tr>\n",
       "      <th>4</th>\n",
       "      <td>DecisionTreeRegressor</td>\n",
       "      <td>0.999653</td>\n",
       "    </tr>\n",
       "    <tr>\n",
       "      <th>8</th>\n",
       "      <td>XGBRegressor</td>\n",
       "      <td>0.995500</td>\n",
       "    </tr>\n",
       "    <tr>\n",
       "      <th>5</th>\n",
       "      <td>RandomForestRegressor</td>\n",
       "      <td>0.976335</td>\n",
       "    </tr>\n",
       "    <tr>\n",
       "      <th>7</th>\n",
       "      <td>CatBoostRegressor</td>\n",
       "      <td>0.958936</td>\n",
       "    </tr>\n",
       "    <tr>\n",
       "      <th>0</th>\n",
       "      <td>LinearRegression</td>\n",
       "      <td>0.874317</td>\n",
       "    </tr>\n",
       "    <tr>\n",
       "      <th>2</th>\n",
       "      <td>Ridge</td>\n",
       "      <td>0.874304</td>\n",
       "    </tr>\n",
       "    <tr>\n",
       "      <th>3</th>\n",
       "      <td>KNeighborsRegressor</td>\n",
       "      <td>0.855420</td>\n",
       "    </tr>\n",
       "    <tr>\n",
       "      <th>6</th>\n",
       "      <td>AdaBoostRegressor</td>\n",
       "      <td>0.850831</td>\n",
       "    </tr>\n",
       "    <tr>\n",
       "      <th>1</th>\n",
       "      <td>Lasso</td>\n",
       "      <td>0.807146</td>\n",
       "    </tr>\n",
       "  </tbody>\n",
       "</table>\n",
       "</div>"
      ],
      "text/plain": [
       "                   Model  R2 Score\n",
       "4  DecisionTreeRegressor  0.999653\n",
       "8           XGBRegressor  0.995500\n",
       "5  RandomForestRegressor  0.976335\n",
       "7      CatBoostRegressor  0.958936\n",
       "0       LinearRegression  0.874317\n",
       "2                  Ridge  0.874304\n",
       "3    KNeighborsRegressor  0.855420\n",
       "6      AdaBoostRegressor  0.850831\n",
       "1                  Lasso  0.807146"
      ]
     },
     "execution_count": 30,
     "metadata": {},
     "output_type": "execute_result"
    }
   ],
   "source": [
    "pd.DataFrame(list(zip(model_list, r2_list)), columns=['Model', 'R2 Score']).sort_values(by='R2 Score', ascending=False)"
   ]
  },
  {
   "cell_type": "code",
   "execution_count": 31,
   "id": "179dc947",
   "metadata": {},
   "outputs": [
    {
     "name": "stdout",
     "output_type": "stream",
     "text": [
      "Accuracy of Linear Regression model is:88.04 \n"
     ]
    }
   ],
   "source": [
    "lin_model = LinearRegression(fit_intercept=True)\n",
    "lin_model.fit(X_train, y_train)\n",
    "y_train_pred = lin_model.predict(X_test)\n",
    "score=r2_score(y_test, y_train_pred)*100\n",
    "print(\"Accuracy of Linear Regression model is:%.2f \" %score)"
   ]
  },
  {
   "cell_type": "code",
   "execution_count": 36,
   "id": "74df8e6b",
   "metadata": {},
   "outputs": [
    {
     "ename": "ImportError",
     "evalue": "cannot import name '_has_pil' from 'matplotlib.backend_bases' (c:\\Project_git\\MLproject\\venv\\lib\\site-packages\\matplotlib\\backend_bases.py)",
     "output_type": "error",
     "traceback": [
      "\u001b[1;31m---------------------------------------------------------------------------\u001b[0m",
      "\u001b[1;31mImportError\u001b[0m                               Traceback (most recent call last)",
      "Cell \u001b[1;32mIn[36], line 1\u001b[0m\n\u001b[1;32m----> 1\u001b[0m \u001b[43mplt\u001b[49m\u001b[38;5;241;43m.\u001b[39;49m\u001b[43mscatter\u001b[49m\u001b[43m(\u001b[49m\u001b[43my_test\u001b[49m\u001b[43m,\u001b[49m\u001b[43m \u001b[49m\u001b[43my_test_pred\u001b[49m\u001b[43m)\u001b[49m\n\u001b[0;32m      2\u001b[0m plt\u001b[38;5;241m.\u001b[39mxlabel(\u001b[38;5;124m\"\u001b[39m\u001b[38;5;124mTrue Values\u001b[39m\u001b[38;5;124m\"\u001b[39m)\n\u001b[0;32m      3\u001b[0m plt\u001b[38;5;241m.\u001b[39mylabel(\u001b[38;5;124m\"\u001b[39m\u001b[38;5;124mPredicted Values\u001b[39m\u001b[38;5;124m\"\u001b[39m)\n",
      "File \u001b[1;32mc:\\Project_git\\MLproject\\venv\\lib\\site-packages\\matplotlib\\pyplot.py:2862\u001b[0m, in \u001b[0;36mscatter\u001b[1;34m(x, y, s, c, marker, cmap, norm, vmin, vmax, alpha, linewidths, edgecolors, plotnonfinite, data, **kwargs)\u001b[0m\n\u001b[0;32m   2858\u001b[0m     if isinstance(__ret, cm.ScalarMappable): sci(__ret)  # noqa\n\u001b[0;32m   2859\u001b[0m     return __ret\n\u001b[1;32m-> 2862\u001b[0m # Autogenerated by boilerplate.py.  Do not edit as changes will be lost.\n\u001b[0;32m   2863\u001b[0m @docstring.copy(Axes.stackplot)\n\u001b[0;32m   2864\u001b[0m def stackplot(\n\u001b[0;32m   2865\u001b[0m         x, *args, labels=(), colors=None, baseline='zero', data=None,\n\u001b[0;32m   2866\u001b[0m         **kwargs):\n\u001b[0;32m   2867\u001b[0m     return gca().stackplot(\n\u001b[0;32m   2868\u001b[0m         x, *args, labels=labels, colors=colors, baseline=baseline,\n\u001b[0;32m   2869\u001b[0m         **({\"data\": data} if data is not None else {}), **kwargs)\n",
      "File \u001b[1;32mc:\\Project_git\\MLproject\\venv\\lib\\site-packages\\matplotlib\\pyplot.py:2309\u001b[0m, in \u001b[0;36mgca\u001b[1;34m()\u001b[0m\n\u001b[0;32m   2300\u001b[0m     \u001b[38;5;28;01mreturn\u001b[39;00m gcf()\u001b[38;5;241m.\u001b[39mfigimage(\n\u001b[0;32m   2301\u001b[0m         X, xo\u001b[38;5;241m=\u001b[39mxo, yo\u001b[38;5;241m=\u001b[39myo, alpha\u001b[38;5;241m=\u001b[39malpha, norm\u001b[38;5;241m=\u001b[39mnorm, cmap\u001b[38;5;241m=\u001b[39mcmap, vmin\u001b[38;5;241m=\u001b[39mvmin,\n\u001b[0;32m   2302\u001b[0m         vmax\u001b[38;5;241m=\u001b[39mvmax, origin\u001b[38;5;241m=\u001b[39morigin, resize\u001b[38;5;241m=\u001b[39mresize, \u001b[38;5;241m*\u001b[39m\u001b[38;5;241m*\u001b[39mkwargs)\n\u001b[0;32m   2305\u001b[0m \u001b[38;5;66;03m# Autogenerated by boilerplate.py.  Do not edit as changes will be lost.\u001b[39;00m\n\u001b[0;32m   2306\u001b[0m \u001b[38;5;129m@docstring\u001b[39m\u001b[38;5;241m.\u001b[39mcopy(Figure\u001b[38;5;241m.\u001b[39mtext)\n\u001b[0;32m   2307\u001b[0m \u001b[38;5;28;01mdef\u001b[39;00m \u001b[38;5;21mfigtext\u001b[39m(\n\u001b[0;32m   2308\u001b[0m         x, y, s, fontdict\u001b[38;5;241m=\u001b[39m\u001b[38;5;28;01mNone\u001b[39;00m,\n\u001b[1;32m-> 2309\u001b[0m         withdash\u001b[38;5;241m=\u001b[39mcbook\u001b[38;5;241m.\u001b[39mdeprecation\u001b[38;5;241m.\u001b[39m_deprecated_parameter, \u001b[38;5;241m*\u001b[39m\u001b[38;5;241m*\u001b[39mkwargs):\n\u001b[0;32m   2310\u001b[0m     \u001b[38;5;28;01mreturn\u001b[39;00m gcf()\u001b[38;5;241m.\u001b[39mtext(\n\u001b[0;32m   2311\u001b[0m         x, y, s, fontdict\u001b[38;5;241m=\u001b[39mfontdict, withdash\u001b[38;5;241m=\u001b[39mwithdash, \u001b[38;5;241m*\u001b[39m\u001b[38;5;241m*\u001b[39mkwargs)\n\u001b[0;32m   2314\u001b[0m \u001b[38;5;66;03m# Autogenerated by boilerplate.py.  Do not edit as changes will be lost.\u001b[39;00m\n",
      "File \u001b[1;32mc:\\Project_git\\MLproject\\venv\\lib\\site-packages\\matplotlib\\pyplot.py:906\u001b[0m, in \u001b[0;36mgcf\u001b[1;34m()\u001b[0m\n\u001b[0;32m    884\u001b[0m \u001b[38;5;129m@docstring\u001b[39m\u001b[38;5;241m.\u001b[39mdedent_interpd\n\u001b[0;32m    885\u001b[0m \u001b[38;5;28;01mdef\u001b[39;00m \u001b[38;5;21msubplot\u001b[39m(\u001b[38;5;241m*\u001b[39margs, \u001b[38;5;241m*\u001b[39m\u001b[38;5;241m*\u001b[39mkwargs):\n\u001b[0;32m    886\u001b[0m \u001b[38;5;250m    \u001b[39m\u001b[38;5;124;03m\"\"\"\u001b[39;00m\n\u001b[0;32m    887\u001b[0m \u001b[38;5;124;03m    Add a subplot to the current figure.\u001b[39;00m\n\u001b[0;32m    888\u001b[0m \n\u001b[0;32m    889\u001b[0m \u001b[38;5;124;03m    Wrapper of `.Figure.add_subplot` with a difference in behavior\u001b[39;00m\n\u001b[0;32m    890\u001b[0m \u001b[38;5;124;03m    explained in the notes section.\u001b[39;00m\n\u001b[0;32m    891\u001b[0m \n\u001b[0;32m    892\u001b[0m \u001b[38;5;124;03m    Call signatures::\u001b[39;00m\n\u001b[0;32m    893\u001b[0m \n\u001b[0;32m    894\u001b[0m \u001b[38;5;124;03m       subplot(nrows, ncols, index, **kwargs)\u001b[39;00m\n\u001b[0;32m    895\u001b[0m \u001b[38;5;124;03m       subplot(pos, **kwargs)\u001b[39;00m\n\u001b[0;32m    896\u001b[0m \u001b[38;5;124;03m       subplot(ax)\u001b[39;00m\n\u001b[0;32m    897\u001b[0m \n\u001b[0;32m    898\u001b[0m \u001b[38;5;124;03m    Parameters\u001b[39;00m\n\u001b[0;32m    899\u001b[0m \u001b[38;5;124;03m    ----------\u001b[39;00m\n\u001b[0;32m    900\u001b[0m \u001b[38;5;124;03m    *args\u001b[39;00m\n\u001b[0;32m    901\u001b[0m \u001b[38;5;124;03m        Either a 3-digit integer or three separate integers\u001b[39;00m\n\u001b[0;32m    902\u001b[0m \u001b[38;5;124;03m        describing the position of the subplot. If the three\u001b[39;00m\n\u001b[0;32m    903\u001b[0m \u001b[38;5;124;03m        integers are *nrows*, *ncols*, and *index* in order, the\u001b[39;00m\n\u001b[0;32m    904\u001b[0m \u001b[38;5;124;03m        subplot will take the *index* position on a grid with *nrows*\u001b[39;00m\n\u001b[0;32m    905\u001b[0m \u001b[38;5;124;03m        rows and *ncols* columns. *index* starts at 1 in the upper left\u001b[39;00m\n\u001b[1;32m--> 906\u001b[0m \u001b[38;5;124;03m        corner and increases to the right.\u001b[39;00m\n\u001b[0;32m    907\u001b[0m \n\u001b[0;32m    908\u001b[0m \u001b[38;5;124;03m        *pos* is a three digit integer, where the first digit is the\u001b[39;00m\n\u001b[0;32m    909\u001b[0m \u001b[38;5;124;03m        number of rows, the second the number of columns, and the third\u001b[39;00m\n\u001b[0;32m    910\u001b[0m \u001b[38;5;124;03m        the index of the subplot. i.e. fig.add_subplot(235) is the same as\u001b[39;00m\n\u001b[0;32m    911\u001b[0m \u001b[38;5;124;03m        fig.add_subplot(2, 3, 5). Note that all integers must be less than\u001b[39;00m\n\u001b[0;32m    912\u001b[0m \u001b[38;5;124;03m        10 for this form to work.\u001b[39;00m\n\u001b[0;32m    913\u001b[0m \n\u001b[0;32m    914\u001b[0m \u001b[38;5;124;03m    projection : {None, 'aitoff', 'hammer', 'lambert', 'mollweide', \\\u001b[39;00m\n\u001b[0;32m    915\u001b[0m \u001b[38;5;124;03m'polar', 'rectilinear', str}, optional\u001b[39;00m\n\u001b[0;32m    916\u001b[0m \u001b[38;5;124;03m        The projection type of the subplot (`~.axes.Axes`). *str* is the name\u001b[39;00m\n\u001b[0;32m    917\u001b[0m \u001b[38;5;124;03m        of a custom projection, see `~matplotlib.projections`. The default\u001b[39;00m\n\u001b[0;32m    918\u001b[0m \u001b[38;5;124;03m        None results in a 'rectilinear' projection.\u001b[39;00m\n\u001b[0;32m    919\u001b[0m \n\u001b[0;32m    920\u001b[0m \u001b[38;5;124;03m    polar : boolean, optional\u001b[39;00m\n\u001b[0;32m    921\u001b[0m \u001b[38;5;124;03m        If True, equivalent to projection='polar'.\u001b[39;00m\n\u001b[0;32m    922\u001b[0m \n\u001b[0;32m    923\u001b[0m \u001b[38;5;124;03m    sharex, sharey : `~.axes.Axes`, optional\u001b[39;00m\n\u001b[0;32m    924\u001b[0m \u001b[38;5;124;03m        Share the x or y `~matplotlib.axis` with sharex and/or sharey. The\u001b[39;00m\n\u001b[0;32m    925\u001b[0m \u001b[38;5;124;03m        axis will have the same limits, ticks, and scale as the axis of the\u001b[39;00m\n\u001b[0;32m    926\u001b[0m \u001b[38;5;124;03m        shared axes.\u001b[39;00m\n\u001b[0;32m    927\u001b[0m \n\u001b[0;32m    928\u001b[0m \u001b[38;5;124;03m    label : str\u001b[39;00m\n\u001b[0;32m    929\u001b[0m \u001b[38;5;124;03m        A label for the returned axes.\u001b[39;00m\n\u001b[0;32m    930\u001b[0m \n\u001b[0;32m    931\u001b[0m \u001b[38;5;124;03m    Other Parameters\u001b[39;00m\n\u001b[0;32m    932\u001b[0m \u001b[38;5;124;03m    ----------------\u001b[39;00m\n\u001b[0;32m    933\u001b[0m \u001b[38;5;124;03m    **kwargs\u001b[39;00m\n\u001b[0;32m    934\u001b[0m \u001b[38;5;124;03m        This method also takes the keyword arguments for the returned axes\u001b[39;00m\n\u001b[0;32m    935\u001b[0m \u001b[38;5;124;03m        base class; except for the *figure* argument. The keyword arguments\u001b[39;00m\n\u001b[0;32m    936\u001b[0m \u001b[38;5;124;03m        for the rectilinear base class `~.axes.Axes` can be found in\u001b[39;00m\n\u001b[0;32m    937\u001b[0m \u001b[38;5;124;03m        the following table but there might also be other keyword\u001b[39;00m\n\u001b[0;32m    938\u001b[0m \u001b[38;5;124;03m        arguments if another projection is used.\u001b[39;00m\n\u001b[0;32m    939\u001b[0m \n\u001b[0;32m    940\u001b[0m \u001b[38;5;124;03m        %(Axes)s\u001b[39;00m\n\u001b[0;32m    941\u001b[0m \n\u001b[0;32m    942\u001b[0m \u001b[38;5;124;03m    Returns\u001b[39;00m\n\u001b[0;32m    943\u001b[0m \u001b[38;5;124;03m    -------\u001b[39;00m\n\u001b[0;32m    944\u001b[0m \u001b[38;5;124;03m    axes : an `.axes.SubplotBase` subclass of `~.axes.Axes` (or a subclass \\\u001b[39;00m\n\u001b[0;32m    945\u001b[0m \u001b[38;5;124;03m    of `~.axes.Axes`)\u001b[39;00m\n\u001b[0;32m    946\u001b[0m \n\u001b[0;32m    947\u001b[0m \u001b[38;5;124;03m        The axes of the subplot. The returned axes base class depends on\u001b[39;00m\n\u001b[0;32m    948\u001b[0m \u001b[38;5;124;03m        the projection used. It is `~.axes.Axes` if rectilinear projection\u001b[39;00m\n\u001b[0;32m    949\u001b[0m \u001b[38;5;124;03m        are used and `.projections.polar.PolarAxes` if polar projection\u001b[39;00m\n\u001b[0;32m    950\u001b[0m \u001b[38;5;124;03m        are used. The returned axes is then a subplot subclass of the\u001b[39;00m\n\u001b[0;32m    951\u001b[0m \u001b[38;5;124;03m        base class.\u001b[39;00m\n\u001b[0;32m    952\u001b[0m \n\u001b[0;32m    953\u001b[0m \u001b[38;5;124;03m    Notes\u001b[39;00m\n\u001b[0;32m    954\u001b[0m \u001b[38;5;124;03m    -----\u001b[39;00m\n\u001b[0;32m    955\u001b[0m \u001b[38;5;124;03m    Creating a subplot will delete any pre-existing subplot that overlaps\u001b[39;00m\n\u001b[0;32m    956\u001b[0m \u001b[38;5;124;03m    with it beyond sharing a boundary::\u001b[39;00m\n\u001b[0;32m    957\u001b[0m \n\u001b[0;32m    958\u001b[0m \u001b[38;5;124;03m        import matplotlib.pyplot as plt\u001b[39;00m\n\u001b[0;32m    959\u001b[0m \u001b[38;5;124;03m        # plot a line, implicitly creating a subplot(111)\u001b[39;00m\n\u001b[0;32m    960\u001b[0m \u001b[38;5;124;03m        plt.plot([1, 2, 3])\u001b[39;00m\n\u001b[0;32m    961\u001b[0m \u001b[38;5;124;03m        # now create a subplot which represents the top plot of a grid\u001b[39;00m\n\u001b[0;32m    962\u001b[0m \u001b[38;5;124;03m        # with 2 rows and 1 column. Since this subplot will overlap the\u001b[39;00m\n\u001b[0;32m    963\u001b[0m \u001b[38;5;124;03m        # first, the plot (and its axes) previously created, will be removed\u001b[39;00m\n\u001b[0;32m    964\u001b[0m \u001b[38;5;124;03m        plt.subplot(211)\u001b[39;00m\n\u001b[0;32m    965\u001b[0m \n\u001b[0;32m    966\u001b[0m \u001b[38;5;124;03m    If you do not want this behavior, use the `.Figure.add_subplot` method\u001b[39;00m\n\u001b[0;32m    967\u001b[0m \u001b[38;5;124;03m    or the `.pyplot.axes` function instead.\u001b[39;00m\n\u001b[0;32m    968\u001b[0m \n\u001b[0;32m    969\u001b[0m \u001b[38;5;124;03m    If the figure already has a subplot with key (*args*,\u001b[39;00m\n\u001b[0;32m    970\u001b[0m \u001b[38;5;124;03m    *kwargs*) then it will simply make that subplot current and\u001b[39;00m\n\u001b[0;32m    971\u001b[0m \u001b[38;5;124;03m    return it.  This behavior is deprecated. Meanwhile, if you do\u001b[39;00m\n\u001b[0;32m    972\u001b[0m \u001b[38;5;124;03m    not want this behavior (i.e., you want to force the creation of a\u001b[39;00m\n\u001b[0;32m    973\u001b[0m \u001b[38;5;124;03m    new subplot), you must use a unique set of args and kwargs.  The axes\u001b[39;00m\n\u001b[0;32m    974\u001b[0m \u001b[38;5;124;03m    *label* attribute has been exposed for this purpose: if you want\u001b[39;00m\n\u001b[0;32m    975\u001b[0m \u001b[38;5;124;03m    two subplots that are otherwise identical to be added to the figure,\u001b[39;00m\n\u001b[0;32m    976\u001b[0m \u001b[38;5;124;03m    make sure you give them unique labels.\u001b[39;00m\n\u001b[0;32m    977\u001b[0m \n\u001b[0;32m    978\u001b[0m \u001b[38;5;124;03m    In rare circumstances, `.add_subplot` may be called with a single\u001b[39;00m\n\u001b[0;32m    979\u001b[0m \u001b[38;5;124;03m    argument, a subplot axes instance already created in the\u001b[39;00m\n\u001b[0;32m    980\u001b[0m \u001b[38;5;124;03m    present figure but not in the figure's list of axes.\u001b[39;00m\n\u001b[0;32m    981\u001b[0m \n\u001b[0;32m    982\u001b[0m \u001b[38;5;124;03m    See Also\u001b[39;00m\n\u001b[0;32m    983\u001b[0m \u001b[38;5;124;03m    --------\u001b[39;00m\n\u001b[0;32m    984\u001b[0m \u001b[38;5;124;03m    .Figure.add_subplot\u001b[39;00m\n\u001b[0;32m    985\u001b[0m \u001b[38;5;124;03m    .pyplot.subplots\u001b[39;00m\n\u001b[0;32m    986\u001b[0m \u001b[38;5;124;03m    .pyplot.axes\u001b[39;00m\n\u001b[0;32m    987\u001b[0m \u001b[38;5;124;03m    .Figure.subplots\u001b[39;00m\n\u001b[0;32m    988\u001b[0m \n\u001b[0;32m    989\u001b[0m \u001b[38;5;124;03m    Examples\u001b[39;00m\n\u001b[0;32m    990\u001b[0m \u001b[38;5;124;03m    --------\u001b[39;00m\n\u001b[0;32m    991\u001b[0m \u001b[38;5;124;03m    ::\u001b[39;00m\n\u001b[0;32m    992\u001b[0m \n\u001b[0;32m    993\u001b[0m \u001b[38;5;124;03m        plt.subplot(221)\u001b[39;00m\n\u001b[0;32m    994\u001b[0m \n\u001b[0;32m    995\u001b[0m \u001b[38;5;124;03m        # equivalent but more general\u001b[39;00m\n\u001b[0;32m    996\u001b[0m \u001b[38;5;124;03m        ax1=plt.subplot(2, 2, 1)\u001b[39;00m\n\u001b[0;32m    997\u001b[0m \n\u001b[0;32m    998\u001b[0m \u001b[38;5;124;03m        # add a subplot with no frame\u001b[39;00m\n\u001b[0;32m    999\u001b[0m \u001b[38;5;124;03m        ax2=plt.subplot(222, frameon=False)\u001b[39;00m\n\u001b[0;32m   1000\u001b[0m \n\u001b[0;32m   1001\u001b[0m \u001b[38;5;124;03m        # add a polar subplot\u001b[39;00m\n\u001b[0;32m   1002\u001b[0m \u001b[38;5;124;03m        plt.subplot(223, projection='polar')\u001b[39;00m\n\u001b[0;32m   1003\u001b[0m \n\u001b[0;32m   1004\u001b[0m \u001b[38;5;124;03m        # add a red subplot that shares the x-axis with ax1\u001b[39;00m\n\u001b[0;32m   1005\u001b[0m \u001b[38;5;124;03m        plt.subplot(224, sharex=ax1, facecolor='red')\u001b[39;00m\n\u001b[0;32m   1006\u001b[0m \n\u001b[0;32m   1007\u001b[0m \u001b[38;5;124;03m        # delete ax2 from the figure\u001b[39;00m\n\u001b[0;32m   1008\u001b[0m \u001b[38;5;124;03m        plt.delaxes(ax2)\u001b[39;00m\n\u001b[0;32m   1009\u001b[0m \n\u001b[0;32m   1010\u001b[0m \u001b[38;5;124;03m        # add ax2 to the figure again\u001b[39;00m\n\u001b[0;32m   1011\u001b[0m \u001b[38;5;124;03m        plt.subplot(ax2)\u001b[39;00m\n\u001b[0;32m   1012\u001b[0m \u001b[38;5;124;03m    \"\"\"\u001b[39;00m\n\u001b[0;32m   1014\u001b[0m     \u001b[38;5;66;03m# if subplot called without arguments, create subplot(1, 1, 1)\u001b[39;00m\n\u001b[0;32m   1015\u001b[0m     \u001b[38;5;28;01mif\u001b[39;00m \u001b[38;5;28mlen\u001b[39m(args) \u001b[38;5;241m==\u001b[39m \u001b[38;5;241m0\u001b[39m:\n",
      "File \u001b[1;32mc:\\Project_git\\MLproject\\venv\\lib\\site-packages\\matplotlib\\_api\\deprecation.py:454\u001b[0m, in \u001b[0;36mmake_keyword_only.<locals>.wrapper\u001b[1;34m(*args, **kwargs)\u001b[0m\n\u001b[0;32m    448\u001b[0m \u001b[38;5;28;01mif\u001b[39;00m \u001b[38;5;28mlen\u001b[39m(args) \u001b[38;5;241m>\u001b[39m name_idx:\n\u001b[0;32m    449\u001b[0m     warn_deprecated(\n\u001b[0;32m    450\u001b[0m         since, message\u001b[38;5;241m=\u001b[39m\u001b[38;5;124m\"\u001b[39m\u001b[38;5;124mPassing the \u001b[39m\u001b[38;5;132;01m%(name)s\u001b[39;00m\u001b[38;5;124m \u001b[39m\u001b[38;5;132;01m%(obj_type)s\u001b[39;00m\u001b[38;5;124m \u001b[39m\u001b[38;5;124m\"\u001b[39m\n\u001b[0;32m    451\u001b[0m         \u001b[38;5;124m\"\u001b[39m\u001b[38;5;124mpositionally is deprecated since Matplotlib \u001b[39m\u001b[38;5;132;01m%(since)s\u001b[39;00m\u001b[38;5;124m; the \u001b[39m\u001b[38;5;124m\"\u001b[39m\n\u001b[0;32m    452\u001b[0m         \u001b[38;5;124m\"\u001b[39m\u001b[38;5;124mparameter will become keyword-only \u001b[39m\u001b[38;5;132;01m%(removal)s\u001b[39;00m\u001b[38;5;124m.\u001b[39m\u001b[38;5;124m\"\u001b[39m,\n\u001b[0;32m    453\u001b[0m         name\u001b[38;5;241m=\u001b[39mname, obj_type\u001b[38;5;241m=\u001b[39m\u001b[38;5;124mf\u001b[39m\u001b[38;5;124m\"\u001b[39m\u001b[38;5;124mparameter of \u001b[39m\u001b[38;5;132;01m{\u001b[39;00mfunc\u001b[38;5;241m.\u001b[39m\u001b[38;5;18m__name__\u001b[39m\u001b[38;5;132;01m}\u001b[39;00m\u001b[38;5;124m()\u001b[39m\u001b[38;5;124m\"\u001b[39m)\n\u001b[1;32m--> 454\u001b[0m \u001b[38;5;28;01mreturn\u001b[39;00m \u001b[43mfunc\u001b[49m\u001b[43m(\u001b[49m\u001b[38;5;241;43m*\u001b[39;49m\u001b[43margs\u001b[49m\u001b[43m,\u001b[49m\u001b[43m \u001b[49m\u001b[38;5;241;43m*\u001b[39;49m\u001b[38;5;241;43m*\u001b[39;49m\u001b[43mkwargs\u001b[49m\u001b[43m)\u001b[49m\n",
      "File \u001b[1;32mc:\\Project_git\\MLproject\\venv\\lib\\site-packages\\matplotlib\\pyplot.py:840\u001b[0m, in \u001b[0;36mfigure\u001b[1;34m(num, figsize, dpi, facecolor, edgecolor, frameon, FigureClass, clear, **kwargs)\u001b[0m\n\u001b[0;32m    835\u001b[0m \u001b[38;5;28;01mdef\u001b[39;00m \u001b[38;5;21mdelaxes\u001b[39m(ax\u001b[38;5;241m=\u001b[39m\u001b[38;5;28;01mNone\u001b[39;00m):\n\u001b[0;32m    836\u001b[0m \u001b[38;5;250m    \u001b[39m\u001b[38;5;124;03m\"\"\"\u001b[39;00m\n\u001b[0;32m    837\u001b[0m \u001b[38;5;124;03m    Remove the `Axes` *ax* (defaulting to the current axes) from its figure.\u001b[39;00m\n\u001b[0;32m    838\u001b[0m \n\u001b[0;32m    839\u001b[0m \u001b[38;5;124;03m    A KeyError is raised if the axes doesn't exist.\u001b[39;00m\n\u001b[1;32m--> 840\u001b[0m \u001b[38;5;124;03m    \"\"\"\u001b[39;00m\n\u001b[0;32m    841\u001b[0m     \u001b[38;5;28;01mif\u001b[39;00m ax \u001b[38;5;129;01mis\u001b[39;00m \u001b[38;5;28;01mNone\u001b[39;00m:\n\u001b[0;32m    842\u001b[0m         ax \u001b[38;5;241m=\u001b[39m gca()\n",
      "File \u001b[1;32mc:\\Project_git\\MLproject\\venv\\lib\\site-packages\\matplotlib\\pyplot.py:383\u001b[0m, in \u001b[0;36mnew_figure_manager\u001b[1;34m(*args, **kwargs)\u001b[0m\n\u001b[0;32m    366\u001b[0m \u001b[38;5;28;01mdef\u001b[39;00m \u001b[38;5;21mxkcd\u001b[39m(scale\u001b[38;5;241m=\u001b[39m\u001b[38;5;241m1\u001b[39m, length\u001b[38;5;241m=\u001b[39m\u001b[38;5;241m100\u001b[39m, randomness\u001b[38;5;241m=\u001b[39m\u001b[38;5;241m2\u001b[39m):\n\u001b[0;32m    367\u001b[0m \u001b[38;5;250m    \u001b[39m\u001b[38;5;124;03m\"\"\"\u001b[39;00m\n\u001b[0;32m    368\u001b[0m \u001b[38;5;124;03m    Turn on `xkcd <https://xkcd.com/>`_ sketch-style drawing mode.\u001b[39;00m\n\u001b[0;32m    369\u001b[0m \u001b[38;5;124;03m    This will only have effect on things drawn after this function is\u001b[39;00m\n\u001b[0;32m    370\u001b[0m \u001b[38;5;124;03m    called.\u001b[39;00m\n\u001b[0;32m    371\u001b[0m \n\u001b[0;32m    372\u001b[0m \u001b[38;5;124;03m    For best results, the \"Humor Sans\" font should be installed: it is\u001b[39;00m\n\u001b[0;32m    373\u001b[0m \u001b[38;5;124;03m    not included with matplotlib.\u001b[39;00m\n\u001b[0;32m    374\u001b[0m \n\u001b[0;32m    375\u001b[0m \u001b[38;5;124;03m    Parameters\u001b[39;00m\n\u001b[0;32m    376\u001b[0m \u001b[38;5;124;03m    ----------\u001b[39;00m\n\u001b[0;32m    377\u001b[0m \u001b[38;5;124;03m    scale : float, optional\u001b[39;00m\n\u001b[0;32m    378\u001b[0m \u001b[38;5;124;03m        The amplitude of the wiggle perpendicular to the source line.\u001b[39;00m\n\u001b[0;32m    379\u001b[0m \u001b[38;5;124;03m    length : float, optional\u001b[39;00m\n\u001b[0;32m    380\u001b[0m \u001b[38;5;124;03m        The length of the wiggle along the line.\u001b[39;00m\n\u001b[0;32m    381\u001b[0m \u001b[38;5;124;03m    randomness : float, optional\u001b[39;00m\n\u001b[0;32m    382\u001b[0m \u001b[38;5;124;03m        The scale factor by which the length is shrunken or expanded.\u001b[39;00m\n\u001b[1;32m--> 383\u001b[0m \n\u001b[0;32m    384\u001b[0m \u001b[38;5;124;03m    Notes\u001b[39;00m\n\u001b[0;32m    385\u001b[0m \u001b[38;5;124;03m    -----\u001b[39;00m\n\u001b[0;32m    386\u001b[0m \u001b[38;5;124;03m    This function works by a number of rcParams, so it will probably\u001b[39;00m\n\u001b[0;32m    387\u001b[0m \u001b[38;5;124;03m    override others you have set before.\u001b[39;00m\n\u001b[0;32m    388\u001b[0m \n\u001b[0;32m    389\u001b[0m \u001b[38;5;124;03m    If you want the effects of this function to be temporary, it can\u001b[39;00m\n\u001b[0;32m    390\u001b[0m \u001b[38;5;124;03m    be used as a context manager, for example::\u001b[39;00m\n\u001b[0;32m    391\u001b[0m \n\u001b[0;32m    392\u001b[0m \u001b[38;5;124;03m        with plt.xkcd():\u001b[39;00m\n\u001b[0;32m    393\u001b[0m \u001b[38;5;124;03m            # This figure will be in XKCD-style\u001b[39;00m\n\u001b[0;32m    394\u001b[0m \u001b[38;5;124;03m            fig1 = plt.figure()\u001b[39;00m\n\u001b[0;32m    395\u001b[0m \u001b[38;5;124;03m            # ...\u001b[39;00m\n\u001b[0;32m    396\u001b[0m \n\u001b[0;32m    397\u001b[0m \u001b[38;5;124;03m        # This figure will be in regular style\u001b[39;00m\n\u001b[0;32m    398\u001b[0m \u001b[38;5;124;03m        fig2 = plt.figure()\u001b[39;00m\n\u001b[0;32m    399\u001b[0m \u001b[38;5;124;03m    \"\"\"\u001b[39;00m\n\u001b[0;32m    400\u001b[0m     \u001b[38;5;28;01mif\u001b[39;00m rcParams[\u001b[38;5;124m'\u001b[39m\u001b[38;5;124mtext.usetex\u001b[39m\u001b[38;5;124m'\u001b[39m]:\n\u001b[0;32m    401\u001b[0m         \u001b[38;5;28;01mraise\u001b[39;00m \u001b[38;5;167;01mRuntimeError\u001b[39;00m(\n\u001b[0;32m    402\u001b[0m             \u001b[38;5;124m\"\u001b[39m\u001b[38;5;124mxkcd mode is not compatible with text.usetex = True\u001b[39m\u001b[38;5;124m\"\u001b[39m)\n",
      "File \u001b[1;32mc:\\Project_git\\MLproject\\venv\\lib\\site-packages\\matplotlib\\pyplot.py:361\u001b[0m, in \u001b[0;36m_warn_if_gui_out_of_main_thread\u001b[1;34m()\u001b[0m\n\u001b[0;32m    354\u001b[0m     \u001b[38;5;28;01mreturn\u001b[39;00m gcf()\u001b[38;5;241m.\u001b[39m_gci()\n\u001b[0;32m    357\u001b[0m \u001b[38;5;66;03m## Any Artist ##\u001b[39;00m\n\u001b[0;32m    358\u001b[0m \n\u001b[0;32m    359\u001b[0m \n\u001b[0;32m    360\u001b[0m \u001b[38;5;66;03m# (getp is simply imported)\u001b[39;00m\n\u001b[1;32m--> 361\u001b[0m \u001b[38;5;129m@docstring\u001b[39m\u001b[38;5;241m.\u001b[39mcopy(_setp)\n\u001b[0;32m    362\u001b[0m \u001b[38;5;28;01mdef\u001b[39;00m \u001b[38;5;21msetp\u001b[39m(obj, \u001b[38;5;241m*\u001b[39margs, \u001b[38;5;241m*\u001b[39m\u001b[38;5;241m*\u001b[39mkwargs):\n\u001b[0;32m    363\u001b[0m     \u001b[38;5;28;01mreturn\u001b[39;00m _setp(obj, \u001b[38;5;241m*\u001b[39margs, \u001b[38;5;241m*\u001b[39m\u001b[38;5;241m*\u001b[39mkwargs)\n\u001b[0;32m    366\u001b[0m \u001b[38;5;28;01mdef\u001b[39;00m \u001b[38;5;21mxkcd\u001b[39m(scale\u001b[38;5;241m=\u001b[39m\u001b[38;5;241m1\u001b[39m, length\u001b[38;5;241m=\u001b[39m\u001b[38;5;241m100\u001b[39m, randomness\u001b[38;5;241m=\u001b[39m\u001b[38;5;241m2\u001b[39m):\n",
      "File \u001b[1;32mc:\\Project_git\\MLproject\\venv\\lib\\site-packages\\matplotlib\\pyplot.py:208\u001b[0m, in \u001b[0;36m_get_backend_mod\u001b[1;34m()\u001b[0m\n\u001b[0;32m    206\u001b[0m         \u001b[38;5;28;01mcontinue\u001b[39;00m\n\u001b[0;32m    207\u001b[0m     \u001b[38;5;28;01melse\u001b[39;00m:\n\u001b[1;32m--> 208\u001b[0m         rcParamsOrig[\u001b[38;5;124m'\u001b[39m\u001b[38;5;124mbackend\u001b[39m\u001b[38;5;124m'\u001b[39m] \u001b[38;5;241m=\u001b[39m candidate\n\u001b[0;32m    209\u001b[0m         \u001b[38;5;28;01mreturn\u001b[39;00m\n\u001b[0;32m    210\u001b[0m \u001b[38;5;28;01melse\u001b[39;00m:\n\u001b[0;32m    211\u001b[0m     \u001b[38;5;66;03m# Switching to Agg should always succeed; if it doesn't, let the\u001b[39;00m\n\u001b[0;32m    212\u001b[0m     \u001b[38;5;66;03m# exception propagate out.\u001b[39;00m\n",
      "File \u001b[1;32mc:\\Project_git\\MLproject\\venv\\lib\\site-packages\\matplotlib\\pyplot.py:271\u001b[0m, in \u001b[0;36mswitch_backend\u001b[1;34m(newbackend)\u001b[0m\n\u001b[0;32m    252\u001b[0m \u001b[38;5;28;01mdef\u001b[39;00m \u001b[38;5;21mshow\u001b[39m(\u001b[38;5;241m*\u001b[39margs, \u001b[38;5;241m*\u001b[39m\u001b[38;5;241m*\u001b[39mkw):\n\u001b[0;32m    253\u001b[0m \u001b[38;5;250m    \u001b[39m\u001b[38;5;124;03m\"\"\"\u001b[39;00m\n\u001b[0;32m    254\u001b[0m \u001b[38;5;124;03m    Display all figures.\u001b[39;00m\n\u001b[0;32m    255\u001b[0m \n\u001b[1;32m   (...)\u001b[0m\n\u001b[0;32m    269\u001b[0m \u001b[38;5;124;03m        override the blocking behavior described above.\u001b[39;00m\n\u001b[0;32m    270\u001b[0m \u001b[38;5;124;03m    \"\"\"\u001b[39;00m\n\u001b[1;32m--> 271\u001b[0m     \u001b[38;5;28;01mglobal\u001b[39;00m _show\n\u001b[0;32m    272\u001b[0m     \u001b[38;5;28;01mreturn\u001b[39;00m _show(\u001b[38;5;241m*\u001b[39margs, \u001b[38;5;241m*\u001b[39m\u001b[38;5;241m*\u001b[39mkw)\n",
      "File \u001b[1;32mc:\\Project_git\\MLproject\\venv\\lib\\importlib\\__init__.py:127\u001b[0m, in \u001b[0;36mimport_module\u001b[1;34m(name, package)\u001b[0m\n\u001b[0;32m    125\u001b[0m             \u001b[38;5;28;01mbreak\u001b[39;00m\n\u001b[0;32m    126\u001b[0m         level \u001b[38;5;241m+\u001b[39m\u001b[38;5;241m=\u001b[39m \u001b[38;5;241m1\u001b[39m\n\u001b[1;32m--> 127\u001b[0m \u001b[38;5;28;01mreturn\u001b[39;00m \u001b[43m_bootstrap\u001b[49m\u001b[38;5;241;43m.\u001b[39;49m\u001b[43m_gcd_import\u001b[49m\u001b[43m(\u001b[49m\u001b[43mname\u001b[49m\u001b[43m[\u001b[49m\u001b[43mlevel\u001b[49m\u001b[43m:\u001b[49m\u001b[43m]\u001b[49m\u001b[43m,\u001b[49m\u001b[43m \u001b[49m\u001b[43mpackage\u001b[49m\u001b[43m,\u001b[49m\u001b[43m \u001b[49m\u001b[43mlevel\u001b[49m\u001b[43m)\u001b[49m\n",
      "File \u001b[1;32m<frozen importlib._bootstrap>:1014\u001b[0m, in \u001b[0;36m_gcd_import\u001b[1;34m(name, package, level)\u001b[0m\n",
      "File \u001b[1;32m<frozen importlib._bootstrap>:991\u001b[0m, in \u001b[0;36m_find_and_load\u001b[1;34m(name, import_)\u001b[0m\n",
      "File \u001b[1;32m<frozen importlib._bootstrap>:961\u001b[0m, in \u001b[0;36m_find_and_load_unlocked\u001b[1;34m(name, import_)\u001b[0m\n",
      "File \u001b[1;32m<frozen importlib._bootstrap>:219\u001b[0m, in \u001b[0;36m_call_with_frames_removed\u001b[1;34m(f, *args, **kwds)\u001b[0m\n",
      "File \u001b[1;32m<frozen importlib._bootstrap>:1014\u001b[0m, in \u001b[0;36m_gcd_import\u001b[1;34m(name, package, level)\u001b[0m\n",
      "File \u001b[1;32m<frozen importlib._bootstrap>:991\u001b[0m, in \u001b[0;36m_find_and_load\u001b[1;34m(name, import_)\u001b[0m\n",
      "File \u001b[1;32m<frozen importlib._bootstrap>:975\u001b[0m, in \u001b[0;36m_find_and_load_unlocked\u001b[1;34m(name, import_)\u001b[0m\n",
      "File \u001b[1;32m<frozen importlib._bootstrap>:671\u001b[0m, in \u001b[0;36m_load_unlocked\u001b[1;34m(spec)\u001b[0m\n",
      "File \u001b[1;32m<frozen importlib._bootstrap_external>:783\u001b[0m, in \u001b[0;36mexec_module\u001b[1;34m(self, module)\u001b[0m\n",
      "File \u001b[1;32m<frozen importlib._bootstrap>:219\u001b[0m, in \u001b[0;36m_call_with_frames_removed\u001b[1;34m(f, *args, **kwds)\u001b[0m\n",
      "File \u001b[1;32mc:\\Project_git\\MLproject\\venv\\lib\\site-packages\\matplotlib_inline\\__init__.py:1\u001b[0m\n\u001b[1;32m----> 1\u001b[0m \u001b[38;5;28;01mfrom\u001b[39;00m \u001b[38;5;21;01m.\u001b[39;00m \u001b[38;5;28;01mimport\u001b[39;00m backend_inline, config  \u001b[38;5;66;03m# noqa\u001b[39;00m\n\u001b[0;32m      2\u001b[0m __version__ \u001b[38;5;241m=\u001b[39m \u001b[38;5;124m\"\u001b[39m\u001b[38;5;124m0.1.6\u001b[39m\u001b[38;5;124m\"\u001b[39m\n",
      "File \u001b[1;32mc:\\Project_git\\MLproject\\venv\\lib\\site-packages\\matplotlib_inline\\backend_inline.py:8\u001b[0m\n\u001b[0;32m      6\u001b[0m \u001b[38;5;28;01mimport\u001b[39;00m \u001b[38;5;21;01mmatplotlib\u001b[39;00m\n\u001b[0;32m      7\u001b[0m \u001b[38;5;28;01mfrom\u001b[39;00m \u001b[38;5;21;01mmatplotlib\u001b[39;00m \u001b[38;5;28;01mimport\u001b[39;00m colors\n\u001b[1;32m----> 8\u001b[0m \u001b[38;5;28;01mfrom\u001b[39;00m \u001b[38;5;21;01mmatplotlib\u001b[39;00m\u001b[38;5;21;01m.\u001b[39;00m\u001b[38;5;21;01mbackends\u001b[39;00m \u001b[38;5;28;01mimport\u001b[39;00m backend_agg\n\u001b[0;32m      9\u001b[0m \u001b[38;5;28;01mfrom\u001b[39;00m \u001b[38;5;21;01mmatplotlib\u001b[39;00m\u001b[38;5;21;01m.\u001b[39;00m\u001b[38;5;21;01mbackends\u001b[39;00m\u001b[38;5;21;01m.\u001b[39;00m\u001b[38;5;21;01mbackend_agg\u001b[39;00m \u001b[38;5;28;01mimport\u001b[39;00m FigureCanvasAgg\n\u001b[0;32m     10\u001b[0m \u001b[38;5;28;01mfrom\u001b[39;00m \u001b[38;5;21;01mmatplotlib\u001b[39;00m\u001b[38;5;21;01m.\u001b[39;00m\u001b[38;5;21;01m_pylab_helpers\u001b[39;00m \u001b[38;5;28;01mimport\u001b[39;00m Gcf\n",
      "File \u001b[1;32mc:\\Project_git\\MLproject\\venv\\lib\\site-packages\\matplotlib\\backends\\backend_agg.py:47\u001b[0m\n\u001b[0;32m     43\u001b[0m \u001b[38;5;28;01mfrom\u001b[39;00m \u001b[38;5;21;01mmatplotlib\u001b[39;00m \u001b[38;5;28;01mimport\u001b[39;00m colors \u001b[38;5;28;01mas\u001b[39;00m mcolors\n\u001b[0;32m     45\u001b[0m \u001b[38;5;28;01mfrom\u001b[39;00m \u001b[38;5;21;01mmatplotlib\u001b[39;00m\u001b[38;5;21;01m.\u001b[39;00m\u001b[38;5;21;01mbackends\u001b[39;00m\u001b[38;5;21;01m.\u001b[39;00m\u001b[38;5;21;01m_backend_agg\u001b[39;00m \u001b[38;5;28;01mimport\u001b[39;00m RendererAgg \u001b[38;5;28;01mas\u001b[39;00m _RendererAgg\n\u001b[1;32m---> 47\u001b[0m \u001b[38;5;28;01mfrom\u001b[39;00m \u001b[38;5;21;01mmatplotlib\u001b[39;00m\u001b[38;5;21;01m.\u001b[39;00m\u001b[38;5;21;01mbackend_bases\u001b[39;00m \u001b[38;5;28;01mimport\u001b[39;00m _has_pil\n\u001b[0;32m     49\u001b[0m \u001b[38;5;28;01mif\u001b[39;00m _has_pil:\n\u001b[0;32m     50\u001b[0m     \u001b[38;5;28;01mfrom\u001b[39;00m \u001b[38;5;21;01mPIL\u001b[39;00m \u001b[38;5;28;01mimport\u001b[39;00m Image\n",
      "\u001b[1;31mImportError\u001b[0m: cannot import name '_has_pil' from 'matplotlib.backend_bases' (c:\\Project_git\\MLproject\\venv\\lib\\site-packages\\matplotlib\\backend_bases.py)"
     ]
    }
   ],
   "source": [
    "plt.scatter(y_test, y_test_pred)\n",
    "plt.xlabel(\"True Values\")\n",
    "plt.ylabel(\"Predicted Values\")\n",
    "\n"
   ]
  },
  {
   "cell_type": "code",
   "execution_count": 37,
   "id": "b3633d01",
   "metadata": {},
   "outputs": [
    {
     "ename": "ImportError",
     "evalue": "cannot import name '_has_pil' from 'matplotlib.backend_bases' (c:\\Project_git\\MLproject\\venv\\lib\\site-packages\\matplotlib\\backend_bases.py)",
     "output_type": "error",
     "traceback": [
      "\u001b[1;31m---------------------------------------------------------------------------\u001b[0m",
      "\u001b[1;31mImportError\u001b[0m                               Traceback (most recent call last)",
      "Cell \u001b[1;32mIn[37], line 3\u001b[0m\n\u001b[0;32m      1\u001b[0m \u001b[38;5;28;01mimport\u001b[39;00m \u001b[38;5;21;01mmatplotlib\u001b[39;00m\u001b[38;5;21;01m.\u001b[39;00m\u001b[38;5;21;01mpyplot\u001b[39;00m \u001b[38;5;28;01mas\u001b[39;00m \u001b[38;5;21;01mplt\u001b[39;00m\n\u001b[1;32m----> 3\u001b[0m \u001b[43mplt\u001b[49m\u001b[38;5;241;43m.\u001b[39;49m\u001b[43mplot\u001b[49m\u001b[43m(\u001b[49m\u001b[43m[\u001b[49m\u001b[38;5;241;43m1\u001b[39;49m\u001b[43m,\u001b[49m\u001b[43m \u001b[49m\u001b[38;5;241;43m2\u001b[39;49m\u001b[43m,\u001b[49m\u001b[43m \u001b[49m\u001b[38;5;241;43m3\u001b[39;49m\u001b[43m]\u001b[49m\u001b[43m,\u001b[49m\u001b[43m \u001b[49m\u001b[43m[\u001b[49m\u001b[38;5;241;43m4\u001b[39;49m\u001b[43m,\u001b[49m\u001b[43m \u001b[49m\u001b[38;5;241;43m5\u001b[39;49m\u001b[43m,\u001b[49m\u001b[43m \u001b[49m\u001b[38;5;241;43m6\u001b[39;49m\u001b[43m]\u001b[49m\u001b[43m)\u001b[49m\n\u001b[0;32m      4\u001b[0m plt\u001b[38;5;241m.\u001b[39mtitle(\u001b[38;5;124m\"\u001b[39m\u001b[38;5;124mMatplotlib is working 🎉\u001b[39m\u001b[38;5;124m\"\u001b[39m)\n\u001b[0;32m      5\u001b[0m plt\u001b[38;5;241m.\u001b[39mshow()\n",
      "File \u001b[1;32mc:\\Project_git\\MLproject\\venv\\lib\\site-packages\\matplotlib\\pyplot.py:2812\u001b[0m, in \u001b[0;36mplot\u001b[1;34m(scalex, scaley, data, *args, **kwargs)\u001b[0m\n\u001b[0;32m   2805\u001b[0m \u001b[38;5;129m@docstring\u001b[39m\u001b[38;5;241m.\u001b[39mcopy(Axes\u001b[38;5;241m.\u001b[39mscatter)\n\u001b[0;32m   2806\u001b[0m \u001b[38;5;28;01mdef\u001b[39;00m \u001b[38;5;21mscatter\u001b[39m(\n\u001b[0;32m   2807\u001b[0m         x, y, s\u001b[38;5;241m=\u001b[39m\u001b[38;5;28;01mNone\u001b[39;00m, c\u001b[38;5;241m=\u001b[39m\u001b[38;5;28;01mNone\u001b[39;00m, marker\u001b[38;5;241m=\u001b[39m\u001b[38;5;28;01mNone\u001b[39;00m, cmap\u001b[38;5;241m=\u001b[39m\u001b[38;5;28;01mNone\u001b[39;00m, norm\u001b[38;5;241m=\u001b[39m\u001b[38;5;28;01mNone\u001b[39;00m,\n\u001b[0;32m   2808\u001b[0m         vmin\u001b[38;5;241m=\u001b[39m\u001b[38;5;28;01mNone\u001b[39;00m, vmax\u001b[38;5;241m=\u001b[39m\u001b[38;5;28;01mNone\u001b[39;00m, alpha\u001b[38;5;241m=\u001b[39m\u001b[38;5;28;01mNone\u001b[39;00m, linewidths\u001b[38;5;241m=\u001b[39m\u001b[38;5;28;01mNone\u001b[39;00m,\n\u001b[0;32m   2809\u001b[0m         verts\u001b[38;5;241m=\u001b[39mcbook\u001b[38;5;241m.\u001b[39mdeprecation\u001b[38;5;241m.\u001b[39m_deprecated_parameter,\n\u001b[0;32m   2810\u001b[0m         edgecolors\u001b[38;5;241m=\u001b[39m\u001b[38;5;28;01mNone\u001b[39;00m, \u001b[38;5;241m*\u001b[39m, plotnonfinite\u001b[38;5;241m=\u001b[39m\u001b[38;5;28;01mFalse\u001b[39;00m, data\u001b[38;5;241m=\u001b[39m\u001b[38;5;28;01mNone\u001b[39;00m, \u001b[38;5;241m*\u001b[39m\u001b[38;5;241m*\u001b[39mkwargs):\n\u001b[0;32m   2811\u001b[0m     __ret \u001b[38;5;241m=\u001b[39m gca()\u001b[38;5;241m.\u001b[39mscatter(\n\u001b[1;32m-> 2812\u001b[0m         x, y, s\u001b[38;5;241m=\u001b[39ms, c\u001b[38;5;241m=\u001b[39mc, marker\u001b[38;5;241m=\u001b[39mmarker, cmap\u001b[38;5;241m=\u001b[39mcmap, norm\u001b[38;5;241m=\u001b[39mnorm,\n\u001b[0;32m   2813\u001b[0m         vmin\u001b[38;5;241m=\u001b[39mvmin, vmax\u001b[38;5;241m=\u001b[39mvmax, alpha\u001b[38;5;241m=\u001b[39malpha, linewidths\u001b[38;5;241m=\u001b[39mlinewidths,\n\u001b[0;32m   2814\u001b[0m         verts\u001b[38;5;241m=\u001b[39mverts, edgecolors\u001b[38;5;241m=\u001b[39medgecolors,\n\u001b[0;32m   2815\u001b[0m         plotnonfinite\u001b[38;5;241m=\u001b[39mplotnonfinite, \u001b[38;5;241m*\u001b[39m\u001b[38;5;241m*\u001b[39m({\u001b[38;5;124m\"\u001b[39m\u001b[38;5;124mdata\u001b[39m\u001b[38;5;124m\"\u001b[39m: data} \u001b[38;5;28;01mif\u001b[39;00m data \u001b[38;5;129;01mis\u001b[39;00m \u001b[38;5;129;01mnot\u001b[39;00m\n\u001b[0;32m   2816\u001b[0m         \u001b[38;5;28;01mNone\u001b[39;00m \u001b[38;5;28;01melse\u001b[39;00m {}), \u001b[38;5;241m*\u001b[39m\u001b[38;5;241m*\u001b[39mkwargs)\n\u001b[0;32m   2817\u001b[0m     sci(__ret)\n\u001b[0;32m   2818\u001b[0m     \u001b[38;5;28;01mreturn\u001b[39;00m __ret\n",
      "File \u001b[1;32mc:\\Project_git\\MLproject\\venv\\lib\\site-packages\\matplotlib\\pyplot.py:2309\u001b[0m, in \u001b[0;36mgca\u001b[1;34m()\u001b[0m\n\u001b[0;32m   2300\u001b[0m     \u001b[38;5;28;01mreturn\u001b[39;00m gcf()\u001b[38;5;241m.\u001b[39mfigimage(\n\u001b[0;32m   2301\u001b[0m         X, xo\u001b[38;5;241m=\u001b[39mxo, yo\u001b[38;5;241m=\u001b[39myo, alpha\u001b[38;5;241m=\u001b[39malpha, norm\u001b[38;5;241m=\u001b[39mnorm, cmap\u001b[38;5;241m=\u001b[39mcmap, vmin\u001b[38;5;241m=\u001b[39mvmin,\n\u001b[0;32m   2302\u001b[0m         vmax\u001b[38;5;241m=\u001b[39mvmax, origin\u001b[38;5;241m=\u001b[39morigin, resize\u001b[38;5;241m=\u001b[39mresize, \u001b[38;5;241m*\u001b[39m\u001b[38;5;241m*\u001b[39mkwargs)\n\u001b[0;32m   2305\u001b[0m \u001b[38;5;66;03m# Autogenerated by boilerplate.py.  Do not edit as changes will be lost.\u001b[39;00m\n\u001b[0;32m   2306\u001b[0m \u001b[38;5;129m@docstring\u001b[39m\u001b[38;5;241m.\u001b[39mcopy(Figure\u001b[38;5;241m.\u001b[39mtext)\n\u001b[0;32m   2307\u001b[0m \u001b[38;5;28;01mdef\u001b[39;00m \u001b[38;5;21mfigtext\u001b[39m(\n\u001b[0;32m   2308\u001b[0m         x, y, s, fontdict\u001b[38;5;241m=\u001b[39m\u001b[38;5;28;01mNone\u001b[39;00m,\n\u001b[1;32m-> 2309\u001b[0m         withdash\u001b[38;5;241m=\u001b[39mcbook\u001b[38;5;241m.\u001b[39mdeprecation\u001b[38;5;241m.\u001b[39m_deprecated_parameter, \u001b[38;5;241m*\u001b[39m\u001b[38;5;241m*\u001b[39mkwargs):\n\u001b[0;32m   2310\u001b[0m     \u001b[38;5;28;01mreturn\u001b[39;00m gcf()\u001b[38;5;241m.\u001b[39mtext(\n\u001b[0;32m   2311\u001b[0m         x, y, s, fontdict\u001b[38;5;241m=\u001b[39mfontdict, withdash\u001b[38;5;241m=\u001b[39mwithdash, \u001b[38;5;241m*\u001b[39m\u001b[38;5;241m*\u001b[39mkwargs)\n\u001b[0;32m   2314\u001b[0m \u001b[38;5;66;03m# Autogenerated by boilerplate.py.  Do not edit as changes will be lost.\u001b[39;00m\n",
      "File \u001b[1;32mc:\\Project_git\\MLproject\\venv\\lib\\site-packages\\matplotlib\\pyplot.py:906\u001b[0m, in \u001b[0;36mgcf\u001b[1;34m()\u001b[0m\n\u001b[0;32m    884\u001b[0m \u001b[38;5;129m@docstring\u001b[39m\u001b[38;5;241m.\u001b[39mdedent_interpd\n\u001b[0;32m    885\u001b[0m \u001b[38;5;28;01mdef\u001b[39;00m \u001b[38;5;21msubplot\u001b[39m(\u001b[38;5;241m*\u001b[39margs, \u001b[38;5;241m*\u001b[39m\u001b[38;5;241m*\u001b[39mkwargs):\n\u001b[0;32m    886\u001b[0m \u001b[38;5;250m    \u001b[39m\u001b[38;5;124;03m\"\"\"\u001b[39;00m\n\u001b[0;32m    887\u001b[0m \u001b[38;5;124;03m    Add a subplot to the current figure.\u001b[39;00m\n\u001b[0;32m    888\u001b[0m \n\u001b[0;32m    889\u001b[0m \u001b[38;5;124;03m    Wrapper of `.Figure.add_subplot` with a difference in behavior\u001b[39;00m\n\u001b[0;32m    890\u001b[0m \u001b[38;5;124;03m    explained in the notes section.\u001b[39;00m\n\u001b[0;32m    891\u001b[0m \n\u001b[0;32m    892\u001b[0m \u001b[38;5;124;03m    Call signatures::\u001b[39;00m\n\u001b[0;32m    893\u001b[0m \n\u001b[0;32m    894\u001b[0m \u001b[38;5;124;03m       subplot(nrows, ncols, index, **kwargs)\u001b[39;00m\n\u001b[0;32m    895\u001b[0m \u001b[38;5;124;03m       subplot(pos, **kwargs)\u001b[39;00m\n\u001b[0;32m    896\u001b[0m \u001b[38;5;124;03m       subplot(ax)\u001b[39;00m\n\u001b[0;32m    897\u001b[0m \n\u001b[0;32m    898\u001b[0m \u001b[38;5;124;03m    Parameters\u001b[39;00m\n\u001b[0;32m    899\u001b[0m \u001b[38;5;124;03m    ----------\u001b[39;00m\n\u001b[0;32m    900\u001b[0m \u001b[38;5;124;03m    *args\u001b[39;00m\n\u001b[0;32m    901\u001b[0m \u001b[38;5;124;03m        Either a 3-digit integer or three separate integers\u001b[39;00m\n\u001b[0;32m    902\u001b[0m \u001b[38;5;124;03m        describing the position of the subplot. If the three\u001b[39;00m\n\u001b[0;32m    903\u001b[0m \u001b[38;5;124;03m        integers are *nrows*, *ncols*, and *index* in order, the\u001b[39;00m\n\u001b[0;32m    904\u001b[0m \u001b[38;5;124;03m        subplot will take the *index* position on a grid with *nrows*\u001b[39;00m\n\u001b[0;32m    905\u001b[0m \u001b[38;5;124;03m        rows and *ncols* columns. *index* starts at 1 in the upper left\u001b[39;00m\n\u001b[1;32m--> 906\u001b[0m \u001b[38;5;124;03m        corner and increases to the right.\u001b[39;00m\n\u001b[0;32m    907\u001b[0m \n\u001b[0;32m    908\u001b[0m \u001b[38;5;124;03m        *pos* is a three digit integer, where the first digit is the\u001b[39;00m\n\u001b[0;32m    909\u001b[0m \u001b[38;5;124;03m        number of rows, the second the number of columns, and the third\u001b[39;00m\n\u001b[0;32m    910\u001b[0m \u001b[38;5;124;03m        the index of the subplot. i.e. fig.add_subplot(235) is the same as\u001b[39;00m\n\u001b[0;32m    911\u001b[0m \u001b[38;5;124;03m        fig.add_subplot(2, 3, 5). Note that all integers must be less than\u001b[39;00m\n\u001b[0;32m    912\u001b[0m \u001b[38;5;124;03m        10 for this form to work.\u001b[39;00m\n\u001b[0;32m    913\u001b[0m \n\u001b[0;32m    914\u001b[0m \u001b[38;5;124;03m    projection : {None, 'aitoff', 'hammer', 'lambert', 'mollweide', \\\u001b[39;00m\n\u001b[0;32m    915\u001b[0m \u001b[38;5;124;03m'polar', 'rectilinear', str}, optional\u001b[39;00m\n\u001b[0;32m    916\u001b[0m \u001b[38;5;124;03m        The projection type of the subplot (`~.axes.Axes`). *str* is the name\u001b[39;00m\n\u001b[0;32m    917\u001b[0m \u001b[38;5;124;03m        of a custom projection, see `~matplotlib.projections`. The default\u001b[39;00m\n\u001b[0;32m    918\u001b[0m \u001b[38;5;124;03m        None results in a 'rectilinear' projection.\u001b[39;00m\n\u001b[0;32m    919\u001b[0m \n\u001b[0;32m    920\u001b[0m \u001b[38;5;124;03m    polar : boolean, optional\u001b[39;00m\n\u001b[0;32m    921\u001b[0m \u001b[38;5;124;03m        If True, equivalent to projection='polar'.\u001b[39;00m\n\u001b[0;32m    922\u001b[0m \n\u001b[0;32m    923\u001b[0m \u001b[38;5;124;03m    sharex, sharey : `~.axes.Axes`, optional\u001b[39;00m\n\u001b[0;32m    924\u001b[0m \u001b[38;5;124;03m        Share the x or y `~matplotlib.axis` with sharex and/or sharey. The\u001b[39;00m\n\u001b[0;32m    925\u001b[0m \u001b[38;5;124;03m        axis will have the same limits, ticks, and scale as the axis of the\u001b[39;00m\n\u001b[0;32m    926\u001b[0m \u001b[38;5;124;03m        shared axes.\u001b[39;00m\n\u001b[0;32m    927\u001b[0m \n\u001b[0;32m    928\u001b[0m \u001b[38;5;124;03m    label : str\u001b[39;00m\n\u001b[0;32m    929\u001b[0m \u001b[38;5;124;03m        A label for the returned axes.\u001b[39;00m\n\u001b[0;32m    930\u001b[0m \n\u001b[0;32m    931\u001b[0m \u001b[38;5;124;03m    Other Parameters\u001b[39;00m\n\u001b[0;32m    932\u001b[0m \u001b[38;5;124;03m    ----------------\u001b[39;00m\n\u001b[0;32m    933\u001b[0m \u001b[38;5;124;03m    **kwargs\u001b[39;00m\n\u001b[0;32m    934\u001b[0m \u001b[38;5;124;03m        This method also takes the keyword arguments for the returned axes\u001b[39;00m\n\u001b[0;32m    935\u001b[0m \u001b[38;5;124;03m        base class; except for the *figure* argument. The keyword arguments\u001b[39;00m\n\u001b[0;32m    936\u001b[0m \u001b[38;5;124;03m        for the rectilinear base class `~.axes.Axes` can be found in\u001b[39;00m\n\u001b[0;32m    937\u001b[0m \u001b[38;5;124;03m        the following table but there might also be other keyword\u001b[39;00m\n\u001b[0;32m    938\u001b[0m \u001b[38;5;124;03m        arguments if another projection is used.\u001b[39;00m\n\u001b[0;32m    939\u001b[0m \n\u001b[0;32m    940\u001b[0m \u001b[38;5;124;03m        %(Axes)s\u001b[39;00m\n\u001b[0;32m    941\u001b[0m \n\u001b[0;32m    942\u001b[0m \u001b[38;5;124;03m    Returns\u001b[39;00m\n\u001b[0;32m    943\u001b[0m \u001b[38;5;124;03m    -------\u001b[39;00m\n\u001b[0;32m    944\u001b[0m \u001b[38;5;124;03m    axes : an `.axes.SubplotBase` subclass of `~.axes.Axes` (or a subclass \\\u001b[39;00m\n\u001b[0;32m    945\u001b[0m \u001b[38;5;124;03m    of `~.axes.Axes`)\u001b[39;00m\n\u001b[0;32m    946\u001b[0m \n\u001b[0;32m    947\u001b[0m \u001b[38;5;124;03m        The axes of the subplot. The returned axes base class depends on\u001b[39;00m\n\u001b[0;32m    948\u001b[0m \u001b[38;5;124;03m        the projection used. It is `~.axes.Axes` if rectilinear projection\u001b[39;00m\n\u001b[0;32m    949\u001b[0m \u001b[38;5;124;03m        are used and `.projections.polar.PolarAxes` if polar projection\u001b[39;00m\n\u001b[0;32m    950\u001b[0m \u001b[38;5;124;03m        are used. The returned axes is then a subplot subclass of the\u001b[39;00m\n\u001b[0;32m    951\u001b[0m \u001b[38;5;124;03m        base class.\u001b[39;00m\n\u001b[0;32m    952\u001b[0m \n\u001b[0;32m    953\u001b[0m \u001b[38;5;124;03m    Notes\u001b[39;00m\n\u001b[0;32m    954\u001b[0m \u001b[38;5;124;03m    -----\u001b[39;00m\n\u001b[0;32m    955\u001b[0m \u001b[38;5;124;03m    Creating a subplot will delete any pre-existing subplot that overlaps\u001b[39;00m\n\u001b[0;32m    956\u001b[0m \u001b[38;5;124;03m    with it beyond sharing a boundary::\u001b[39;00m\n\u001b[0;32m    957\u001b[0m \n\u001b[0;32m    958\u001b[0m \u001b[38;5;124;03m        import matplotlib.pyplot as plt\u001b[39;00m\n\u001b[0;32m    959\u001b[0m \u001b[38;5;124;03m        # plot a line, implicitly creating a subplot(111)\u001b[39;00m\n\u001b[0;32m    960\u001b[0m \u001b[38;5;124;03m        plt.plot([1, 2, 3])\u001b[39;00m\n\u001b[0;32m    961\u001b[0m \u001b[38;5;124;03m        # now create a subplot which represents the top plot of a grid\u001b[39;00m\n\u001b[0;32m    962\u001b[0m \u001b[38;5;124;03m        # with 2 rows and 1 column. Since this subplot will overlap the\u001b[39;00m\n\u001b[0;32m    963\u001b[0m \u001b[38;5;124;03m        # first, the plot (and its axes) previously created, will be removed\u001b[39;00m\n\u001b[0;32m    964\u001b[0m \u001b[38;5;124;03m        plt.subplot(211)\u001b[39;00m\n\u001b[0;32m    965\u001b[0m \n\u001b[0;32m    966\u001b[0m \u001b[38;5;124;03m    If you do not want this behavior, use the `.Figure.add_subplot` method\u001b[39;00m\n\u001b[0;32m    967\u001b[0m \u001b[38;5;124;03m    or the `.pyplot.axes` function instead.\u001b[39;00m\n\u001b[0;32m    968\u001b[0m \n\u001b[0;32m    969\u001b[0m \u001b[38;5;124;03m    If the figure already has a subplot with key (*args*,\u001b[39;00m\n\u001b[0;32m    970\u001b[0m \u001b[38;5;124;03m    *kwargs*) then it will simply make that subplot current and\u001b[39;00m\n\u001b[0;32m    971\u001b[0m \u001b[38;5;124;03m    return it.  This behavior is deprecated. Meanwhile, if you do\u001b[39;00m\n\u001b[0;32m    972\u001b[0m \u001b[38;5;124;03m    not want this behavior (i.e., you want to force the creation of a\u001b[39;00m\n\u001b[0;32m    973\u001b[0m \u001b[38;5;124;03m    new subplot), you must use a unique set of args and kwargs.  The axes\u001b[39;00m\n\u001b[0;32m    974\u001b[0m \u001b[38;5;124;03m    *label* attribute has been exposed for this purpose: if you want\u001b[39;00m\n\u001b[0;32m    975\u001b[0m \u001b[38;5;124;03m    two subplots that are otherwise identical to be added to the figure,\u001b[39;00m\n\u001b[0;32m    976\u001b[0m \u001b[38;5;124;03m    make sure you give them unique labels.\u001b[39;00m\n\u001b[0;32m    977\u001b[0m \n\u001b[0;32m    978\u001b[0m \u001b[38;5;124;03m    In rare circumstances, `.add_subplot` may be called with a single\u001b[39;00m\n\u001b[0;32m    979\u001b[0m \u001b[38;5;124;03m    argument, a subplot axes instance already created in the\u001b[39;00m\n\u001b[0;32m    980\u001b[0m \u001b[38;5;124;03m    present figure but not in the figure's list of axes.\u001b[39;00m\n\u001b[0;32m    981\u001b[0m \n\u001b[0;32m    982\u001b[0m \u001b[38;5;124;03m    See Also\u001b[39;00m\n\u001b[0;32m    983\u001b[0m \u001b[38;5;124;03m    --------\u001b[39;00m\n\u001b[0;32m    984\u001b[0m \u001b[38;5;124;03m    .Figure.add_subplot\u001b[39;00m\n\u001b[0;32m    985\u001b[0m \u001b[38;5;124;03m    .pyplot.subplots\u001b[39;00m\n\u001b[0;32m    986\u001b[0m \u001b[38;5;124;03m    .pyplot.axes\u001b[39;00m\n\u001b[0;32m    987\u001b[0m \u001b[38;5;124;03m    .Figure.subplots\u001b[39;00m\n\u001b[0;32m    988\u001b[0m \n\u001b[0;32m    989\u001b[0m \u001b[38;5;124;03m    Examples\u001b[39;00m\n\u001b[0;32m    990\u001b[0m \u001b[38;5;124;03m    --------\u001b[39;00m\n\u001b[0;32m    991\u001b[0m \u001b[38;5;124;03m    ::\u001b[39;00m\n\u001b[0;32m    992\u001b[0m \n\u001b[0;32m    993\u001b[0m \u001b[38;5;124;03m        plt.subplot(221)\u001b[39;00m\n\u001b[0;32m    994\u001b[0m \n\u001b[0;32m    995\u001b[0m \u001b[38;5;124;03m        # equivalent but more general\u001b[39;00m\n\u001b[0;32m    996\u001b[0m \u001b[38;5;124;03m        ax1=plt.subplot(2, 2, 1)\u001b[39;00m\n\u001b[0;32m    997\u001b[0m \n\u001b[0;32m    998\u001b[0m \u001b[38;5;124;03m        # add a subplot with no frame\u001b[39;00m\n\u001b[0;32m    999\u001b[0m \u001b[38;5;124;03m        ax2=plt.subplot(222, frameon=False)\u001b[39;00m\n\u001b[0;32m   1000\u001b[0m \n\u001b[0;32m   1001\u001b[0m \u001b[38;5;124;03m        # add a polar subplot\u001b[39;00m\n\u001b[0;32m   1002\u001b[0m \u001b[38;5;124;03m        plt.subplot(223, projection='polar')\u001b[39;00m\n\u001b[0;32m   1003\u001b[0m \n\u001b[0;32m   1004\u001b[0m \u001b[38;5;124;03m        # add a red subplot that shares the x-axis with ax1\u001b[39;00m\n\u001b[0;32m   1005\u001b[0m \u001b[38;5;124;03m        plt.subplot(224, sharex=ax1, facecolor='red')\u001b[39;00m\n\u001b[0;32m   1006\u001b[0m \n\u001b[0;32m   1007\u001b[0m \u001b[38;5;124;03m        # delete ax2 from the figure\u001b[39;00m\n\u001b[0;32m   1008\u001b[0m \u001b[38;5;124;03m        plt.delaxes(ax2)\u001b[39;00m\n\u001b[0;32m   1009\u001b[0m \n\u001b[0;32m   1010\u001b[0m \u001b[38;5;124;03m        # add ax2 to the figure again\u001b[39;00m\n\u001b[0;32m   1011\u001b[0m \u001b[38;5;124;03m        plt.subplot(ax2)\u001b[39;00m\n\u001b[0;32m   1012\u001b[0m \u001b[38;5;124;03m    \"\"\"\u001b[39;00m\n\u001b[0;32m   1014\u001b[0m     \u001b[38;5;66;03m# if subplot called without arguments, create subplot(1, 1, 1)\u001b[39;00m\n\u001b[0;32m   1015\u001b[0m     \u001b[38;5;28;01mif\u001b[39;00m \u001b[38;5;28mlen\u001b[39m(args) \u001b[38;5;241m==\u001b[39m \u001b[38;5;241m0\u001b[39m:\n",
      "File \u001b[1;32mc:\\Project_git\\MLproject\\venv\\lib\\site-packages\\matplotlib\\_api\\deprecation.py:454\u001b[0m, in \u001b[0;36mmake_keyword_only.<locals>.wrapper\u001b[1;34m(*args, **kwargs)\u001b[0m\n\u001b[0;32m    448\u001b[0m \u001b[38;5;28;01mif\u001b[39;00m \u001b[38;5;28mlen\u001b[39m(args) \u001b[38;5;241m>\u001b[39m name_idx:\n\u001b[0;32m    449\u001b[0m     warn_deprecated(\n\u001b[0;32m    450\u001b[0m         since, message\u001b[38;5;241m=\u001b[39m\u001b[38;5;124m\"\u001b[39m\u001b[38;5;124mPassing the \u001b[39m\u001b[38;5;132;01m%(name)s\u001b[39;00m\u001b[38;5;124m \u001b[39m\u001b[38;5;132;01m%(obj_type)s\u001b[39;00m\u001b[38;5;124m \u001b[39m\u001b[38;5;124m\"\u001b[39m\n\u001b[0;32m    451\u001b[0m         \u001b[38;5;124m\"\u001b[39m\u001b[38;5;124mpositionally is deprecated since Matplotlib \u001b[39m\u001b[38;5;132;01m%(since)s\u001b[39;00m\u001b[38;5;124m; the \u001b[39m\u001b[38;5;124m\"\u001b[39m\n\u001b[0;32m    452\u001b[0m         \u001b[38;5;124m\"\u001b[39m\u001b[38;5;124mparameter will become keyword-only \u001b[39m\u001b[38;5;132;01m%(removal)s\u001b[39;00m\u001b[38;5;124m.\u001b[39m\u001b[38;5;124m\"\u001b[39m,\n\u001b[0;32m    453\u001b[0m         name\u001b[38;5;241m=\u001b[39mname, obj_type\u001b[38;5;241m=\u001b[39m\u001b[38;5;124mf\u001b[39m\u001b[38;5;124m\"\u001b[39m\u001b[38;5;124mparameter of \u001b[39m\u001b[38;5;132;01m{\u001b[39;00mfunc\u001b[38;5;241m.\u001b[39m\u001b[38;5;18m__name__\u001b[39m\u001b[38;5;132;01m}\u001b[39;00m\u001b[38;5;124m()\u001b[39m\u001b[38;5;124m\"\u001b[39m)\n\u001b[1;32m--> 454\u001b[0m \u001b[38;5;28;01mreturn\u001b[39;00m \u001b[43mfunc\u001b[49m\u001b[43m(\u001b[49m\u001b[38;5;241;43m*\u001b[39;49m\u001b[43margs\u001b[49m\u001b[43m,\u001b[49m\u001b[43m \u001b[49m\u001b[38;5;241;43m*\u001b[39;49m\u001b[38;5;241;43m*\u001b[39;49m\u001b[43mkwargs\u001b[49m\u001b[43m)\u001b[49m\n",
      "File \u001b[1;32mc:\\Project_git\\MLproject\\venv\\lib\\site-packages\\matplotlib\\pyplot.py:840\u001b[0m, in \u001b[0;36mfigure\u001b[1;34m(num, figsize, dpi, facecolor, edgecolor, frameon, FigureClass, clear, **kwargs)\u001b[0m\n\u001b[0;32m    835\u001b[0m \u001b[38;5;28;01mdef\u001b[39;00m \u001b[38;5;21mdelaxes\u001b[39m(ax\u001b[38;5;241m=\u001b[39m\u001b[38;5;28;01mNone\u001b[39;00m):\n\u001b[0;32m    836\u001b[0m \u001b[38;5;250m    \u001b[39m\u001b[38;5;124;03m\"\"\"\u001b[39;00m\n\u001b[0;32m    837\u001b[0m \u001b[38;5;124;03m    Remove the `Axes` *ax* (defaulting to the current axes) from its figure.\u001b[39;00m\n\u001b[0;32m    838\u001b[0m \n\u001b[0;32m    839\u001b[0m \u001b[38;5;124;03m    A KeyError is raised if the axes doesn't exist.\u001b[39;00m\n\u001b[1;32m--> 840\u001b[0m \u001b[38;5;124;03m    \"\"\"\u001b[39;00m\n\u001b[0;32m    841\u001b[0m     \u001b[38;5;28;01mif\u001b[39;00m ax \u001b[38;5;129;01mis\u001b[39;00m \u001b[38;5;28;01mNone\u001b[39;00m:\n\u001b[0;32m    842\u001b[0m         ax \u001b[38;5;241m=\u001b[39m gca()\n",
      "File \u001b[1;32mc:\\Project_git\\MLproject\\venv\\lib\\site-packages\\matplotlib\\pyplot.py:383\u001b[0m, in \u001b[0;36mnew_figure_manager\u001b[1;34m(*args, **kwargs)\u001b[0m\n\u001b[0;32m    366\u001b[0m \u001b[38;5;28;01mdef\u001b[39;00m \u001b[38;5;21mxkcd\u001b[39m(scale\u001b[38;5;241m=\u001b[39m\u001b[38;5;241m1\u001b[39m, length\u001b[38;5;241m=\u001b[39m\u001b[38;5;241m100\u001b[39m, randomness\u001b[38;5;241m=\u001b[39m\u001b[38;5;241m2\u001b[39m):\n\u001b[0;32m    367\u001b[0m \u001b[38;5;250m    \u001b[39m\u001b[38;5;124;03m\"\"\"\u001b[39;00m\n\u001b[0;32m    368\u001b[0m \u001b[38;5;124;03m    Turn on `xkcd <https://xkcd.com/>`_ sketch-style drawing mode.\u001b[39;00m\n\u001b[0;32m    369\u001b[0m \u001b[38;5;124;03m    This will only have effect on things drawn after this function is\u001b[39;00m\n\u001b[0;32m    370\u001b[0m \u001b[38;5;124;03m    called.\u001b[39;00m\n\u001b[0;32m    371\u001b[0m \n\u001b[0;32m    372\u001b[0m \u001b[38;5;124;03m    For best results, the \"Humor Sans\" font should be installed: it is\u001b[39;00m\n\u001b[0;32m    373\u001b[0m \u001b[38;5;124;03m    not included with matplotlib.\u001b[39;00m\n\u001b[0;32m    374\u001b[0m \n\u001b[0;32m    375\u001b[0m \u001b[38;5;124;03m    Parameters\u001b[39;00m\n\u001b[0;32m    376\u001b[0m \u001b[38;5;124;03m    ----------\u001b[39;00m\n\u001b[0;32m    377\u001b[0m \u001b[38;5;124;03m    scale : float, optional\u001b[39;00m\n\u001b[0;32m    378\u001b[0m \u001b[38;5;124;03m        The amplitude of the wiggle perpendicular to the source line.\u001b[39;00m\n\u001b[0;32m    379\u001b[0m \u001b[38;5;124;03m    length : float, optional\u001b[39;00m\n\u001b[0;32m    380\u001b[0m \u001b[38;5;124;03m        The length of the wiggle along the line.\u001b[39;00m\n\u001b[0;32m    381\u001b[0m \u001b[38;5;124;03m    randomness : float, optional\u001b[39;00m\n\u001b[0;32m    382\u001b[0m \u001b[38;5;124;03m        The scale factor by which the length is shrunken or expanded.\u001b[39;00m\n\u001b[1;32m--> 383\u001b[0m \n\u001b[0;32m    384\u001b[0m \u001b[38;5;124;03m    Notes\u001b[39;00m\n\u001b[0;32m    385\u001b[0m \u001b[38;5;124;03m    -----\u001b[39;00m\n\u001b[0;32m    386\u001b[0m \u001b[38;5;124;03m    This function works by a number of rcParams, so it will probably\u001b[39;00m\n\u001b[0;32m    387\u001b[0m \u001b[38;5;124;03m    override others you have set before.\u001b[39;00m\n\u001b[0;32m    388\u001b[0m \n\u001b[0;32m    389\u001b[0m \u001b[38;5;124;03m    If you want the effects of this function to be temporary, it can\u001b[39;00m\n\u001b[0;32m    390\u001b[0m \u001b[38;5;124;03m    be used as a context manager, for example::\u001b[39;00m\n\u001b[0;32m    391\u001b[0m \n\u001b[0;32m    392\u001b[0m \u001b[38;5;124;03m        with plt.xkcd():\u001b[39;00m\n\u001b[0;32m    393\u001b[0m \u001b[38;5;124;03m            # This figure will be in XKCD-style\u001b[39;00m\n\u001b[0;32m    394\u001b[0m \u001b[38;5;124;03m            fig1 = plt.figure()\u001b[39;00m\n\u001b[0;32m    395\u001b[0m \u001b[38;5;124;03m            # ...\u001b[39;00m\n\u001b[0;32m    396\u001b[0m \n\u001b[0;32m    397\u001b[0m \u001b[38;5;124;03m        # This figure will be in regular style\u001b[39;00m\n\u001b[0;32m    398\u001b[0m \u001b[38;5;124;03m        fig2 = plt.figure()\u001b[39;00m\n\u001b[0;32m    399\u001b[0m \u001b[38;5;124;03m    \"\"\"\u001b[39;00m\n\u001b[0;32m    400\u001b[0m     \u001b[38;5;28;01mif\u001b[39;00m rcParams[\u001b[38;5;124m'\u001b[39m\u001b[38;5;124mtext.usetex\u001b[39m\u001b[38;5;124m'\u001b[39m]:\n\u001b[0;32m    401\u001b[0m         \u001b[38;5;28;01mraise\u001b[39;00m \u001b[38;5;167;01mRuntimeError\u001b[39;00m(\n\u001b[0;32m    402\u001b[0m             \u001b[38;5;124m\"\u001b[39m\u001b[38;5;124mxkcd mode is not compatible with text.usetex = True\u001b[39m\u001b[38;5;124m\"\u001b[39m)\n",
      "File \u001b[1;32mc:\\Project_git\\MLproject\\venv\\lib\\site-packages\\matplotlib\\pyplot.py:361\u001b[0m, in \u001b[0;36m_warn_if_gui_out_of_main_thread\u001b[1;34m()\u001b[0m\n\u001b[0;32m    354\u001b[0m     \u001b[38;5;28;01mreturn\u001b[39;00m gcf()\u001b[38;5;241m.\u001b[39m_gci()\n\u001b[0;32m    357\u001b[0m \u001b[38;5;66;03m## Any Artist ##\u001b[39;00m\n\u001b[0;32m    358\u001b[0m \n\u001b[0;32m    359\u001b[0m \n\u001b[0;32m    360\u001b[0m \u001b[38;5;66;03m# (getp is simply imported)\u001b[39;00m\n\u001b[1;32m--> 361\u001b[0m \u001b[38;5;129m@docstring\u001b[39m\u001b[38;5;241m.\u001b[39mcopy(_setp)\n\u001b[0;32m    362\u001b[0m \u001b[38;5;28;01mdef\u001b[39;00m \u001b[38;5;21msetp\u001b[39m(obj, \u001b[38;5;241m*\u001b[39margs, \u001b[38;5;241m*\u001b[39m\u001b[38;5;241m*\u001b[39mkwargs):\n\u001b[0;32m    363\u001b[0m     \u001b[38;5;28;01mreturn\u001b[39;00m _setp(obj, \u001b[38;5;241m*\u001b[39margs, \u001b[38;5;241m*\u001b[39m\u001b[38;5;241m*\u001b[39mkwargs)\n\u001b[0;32m    366\u001b[0m \u001b[38;5;28;01mdef\u001b[39;00m \u001b[38;5;21mxkcd\u001b[39m(scale\u001b[38;5;241m=\u001b[39m\u001b[38;5;241m1\u001b[39m, length\u001b[38;5;241m=\u001b[39m\u001b[38;5;241m100\u001b[39m, randomness\u001b[38;5;241m=\u001b[39m\u001b[38;5;241m2\u001b[39m):\n",
      "File \u001b[1;32mc:\\Project_git\\MLproject\\venv\\lib\\site-packages\\matplotlib\\pyplot.py:208\u001b[0m, in \u001b[0;36m_get_backend_mod\u001b[1;34m()\u001b[0m\n\u001b[0;32m    206\u001b[0m         \u001b[38;5;28;01mcontinue\u001b[39;00m\n\u001b[0;32m    207\u001b[0m     \u001b[38;5;28;01melse\u001b[39;00m:\n\u001b[1;32m--> 208\u001b[0m         rcParamsOrig[\u001b[38;5;124m'\u001b[39m\u001b[38;5;124mbackend\u001b[39m\u001b[38;5;124m'\u001b[39m] \u001b[38;5;241m=\u001b[39m candidate\n\u001b[0;32m    209\u001b[0m         \u001b[38;5;28;01mreturn\u001b[39;00m\n\u001b[0;32m    210\u001b[0m \u001b[38;5;28;01melse\u001b[39;00m:\n\u001b[0;32m    211\u001b[0m     \u001b[38;5;66;03m# Switching to Agg should always succeed; if it doesn't, let the\u001b[39;00m\n\u001b[0;32m    212\u001b[0m     \u001b[38;5;66;03m# exception propagate out.\u001b[39;00m\n",
      "File \u001b[1;32mc:\\Project_git\\MLproject\\venv\\lib\\site-packages\\matplotlib\\pyplot.py:271\u001b[0m, in \u001b[0;36mswitch_backend\u001b[1;34m(newbackend)\u001b[0m\n\u001b[0;32m    252\u001b[0m \u001b[38;5;28;01mdef\u001b[39;00m \u001b[38;5;21mshow\u001b[39m(\u001b[38;5;241m*\u001b[39margs, \u001b[38;5;241m*\u001b[39m\u001b[38;5;241m*\u001b[39mkw):\n\u001b[0;32m    253\u001b[0m \u001b[38;5;250m    \u001b[39m\u001b[38;5;124;03m\"\"\"\u001b[39;00m\n\u001b[0;32m    254\u001b[0m \u001b[38;5;124;03m    Display all figures.\u001b[39;00m\n\u001b[0;32m    255\u001b[0m \n\u001b[1;32m   (...)\u001b[0m\n\u001b[0;32m    269\u001b[0m \u001b[38;5;124;03m        override the blocking behavior described above.\u001b[39;00m\n\u001b[0;32m    270\u001b[0m \u001b[38;5;124;03m    \"\"\"\u001b[39;00m\n\u001b[1;32m--> 271\u001b[0m     \u001b[38;5;28;01mglobal\u001b[39;00m _show\n\u001b[0;32m    272\u001b[0m     \u001b[38;5;28;01mreturn\u001b[39;00m _show(\u001b[38;5;241m*\u001b[39margs, \u001b[38;5;241m*\u001b[39m\u001b[38;5;241m*\u001b[39mkw)\n",
      "File \u001b[1;32mc:\\Project_git\\MLproject\\venv\\lib\\importlib\\__init__.py:127\u001b[0m, in \u001b[0;36mimport_module\u001b[1;34m(name, package)\u001b[0m\n\u001b[0;32m    125\u001b[0m             \u001b[38;5;28;01mbreak\u001b[39;00m\n\u001b[0;32m    126\u001b[0m         level \u001b[38;5;241m+\u001b[39m\u001b[38;5;241m=\u001b[39m \u001b[38;5;241m1\u001b[39m\n\u001b[1;32m--> 127\u001b[0m \u001b[38;5;28;01mreturn\u001b[39;00m \u001b[43m_bootstrap\u001b[49m\u001b[38;5;241;43m.\u001b[39;49m\u001b[43m_gcd_import\u001b[49m\u001b[43m(\u001b[49m\u001b[43mname\u001b[49m\u001b[43m[\u001b[49m\u001b[43mlevel\u001b[49m\u001b[43m:\u001b[49m\u001b[43m]\u001b[49m\u001b[43m,\u001b[49m\u001b[43m \u001b[49m\u001b[43mpackage\u001b[49m\u001b[43m,\u001b[49m\u001b[43m \u001b[49m\u001b[43mlevel\u001b[49m\u001b[43m)\u001b[49m\n",
      "File \u001b[1;32m<frozen importlib._bootstrap>:1014\u001b[0m, in \u001b[0;36m_gcd_import\u001b[1;34m(name, package, level)\u001b[0m\n",
      "File \u001b[1;32m<frozen importlib._bootstrap>:991\u001b[0m, in \u001b[0;36m_find_and_load\u001b[1;34m(name, import_)\u001b[0m\n",
      "File \u001b[1;32m<frozen importlib._bootstrap>:961\u001b[0m, in \u001b[0;36m_find_and_load_unlocked\u001b[1;34m(name, import_)\u001b[0m\n",
      "File \u001b[1;32m<frozen importlib._bootstrap>:219\u001b[0m, in \u001b[0;36m_call_with_frames_removed\u001b[1;34m(f, *args, **kwds)\u001b[0m\n",
      "File \u001b[1;32m<frozen importlib._bootstrap>:1014\u001b[0m, in \u001b[0;36m_gcd_import\u001b[1;34m(name, package, level)\u001b[0m\n",
      "File \u001b[1;32m<frozen importlib._bootstrap>:991\u001b[0m, in \u001b[0;36m_find_and_load\u001b[1;34m(name, import_)\u001b[0m\n",
      "File \u001b[1;32m<frozen importlib._bootstrap>:975\u001b[0m, in \u001b[0;36m_find_and_load_unlocked\u001b[1;34m(name, import_)\u001b[0m\n",
      "File \u001b[1;32m<frozen importlib._bootstrap>:671\u001b[0m, in \u001b[0;36m_load_unlocked\u001b[1;34m(spec)\u001b[0m\n",
      "File \u001b[1;32m<frozen importlib._bootstrap_external>:783\u001b[0m, in \u001b[0;36mexec_module\u001b[1;34m(self, module)\u001b[0m\n",
      "File \u001b[1;32m<frozen importlib._bootstrap>:219\u001b[0m, in \u001b[0;36m_call_with_frames_removed\u001b[1;34m(f, *args, **kwds)\u001b[0m\n",
      "File \u001b[1;32mc:\\Project_git\\MLproject\\venv\\lib\\site-packages\\matplotlib_inline\\__init__.py:1\u001b[0m\n\u001b[1;32m----> 1\u001b[0m \u001b[38;5;28;01mfrom\u001b[39;00m \u001b[38;5;21;01m.\u001b[39;00m \u001b[38;5;28;01mimport\u001b[39;00m backend_inline, config  \u001b[38;5;66;03m# noqa\u001b[39;00m\n\u001b[0;32m      2\u001b[0m __version__ \u001b[38;5;241m=\u001b[39m \u001b[38;5;124m\"\u001b[39m\u001b[38;5;124m0.1.6\u001b[39m\u001b[38;5;124m\"\u001b[39m\n",
      "File \u001b[1;32mc:\\Project_git\\MLproject\\venv\\lib\\site-packages\\matplotlib_inline\\backend_inline.py:8\u001b[0m\n\u001b[0;32m      6\u001b[0m \u001b[38;5;28;01mimport\u001b[39;00m \u001b[38;5;21;01mmatplotlib\u001b[39;00m\n\u001b[0;32m      7\u001b[0m \u001b[38;5;28;01mfrom\u001b[39;00m \u001b[38;5;21;01mmatplotlib\u001b[39;00m \u001b[38;5;28;01mimport\u001b[39;00m colors\n\u001b[1;32m----> 8\u001b[0m \u001b[38;5;28;01mfrom\u001b[39;00m \u001b[38;5;21;01mmatplotlib\u001b[39;00m\u001b[38;5;21;01m.\u001b[39;00m\u001b[38;5;21;01mbackends\u001b[39;00m \u001b[38;5;28;01mimport\u001b[39;00m backend_agg\n\u001b[0;32m      9\u001b[0m \u001b[38;5;28;01mfrom\u001b[39;00m \u001b[38;5;21;01mmatplotlib\u001b[39;00m\u001b[38;5;21;01m.\u001b[39;00m\u001b[38;5;21;01mbackends\u001b[39;00m\u001b[38;5;21;01m.\u001b[39;00m\u001b[38;5;21;01mbackend_agg\u001b[39;00m \u001b[38;5;28;01mimport\u001b[39;00m FigureCanvasAgg\n\u001b[0;32m     10\u001b[0m \u001b[38;5;28;01mfrom\u001b[39;00m \u001b[38;5;21;01mmatplotlib\u001b[39;00m\u001b[38;5;21;01m.\u001b[39;00m\u001b[38;5;21;01m_pylab_helpers\u001b[39;00m \u001b[38;5;28;01mimport\u001b[39;00m Gcf\n",
      "File \u001b[1;32mc:\\Project_git\\MLproject\\venv\\lib\\site-packages\\matplotlib\\backends\\backend_agg.py:47\u001b[0m\n\u001b[0;32m     43\u001b[0m \u001b[38;5;28;01mfrom\u001b[39;00m \u001b[38;5;21;01mmatplotlib\u001b[39;00m \u001b[38;5;28;01mimport\u001b[39;00m colors \u001b[38;5;28;01mas\u001b[39;00m mcolors\n\u001b[0;32m     45\u001b[0m \u001b[38;5;28;01mfrom\u001b[39;00m \u001b[38;5;21;01mmatplotlib\u001b[39;00m\u001b[38;5;21;01m.\u001b[39;00m\u001b[38;5;21;01mbackends\u001b[39;00m\u001b[38;5;21;01m.\u001b[39;00m\u001b[38;5;21;01m_backend_agg\u001b[39;00m \u001b[38;5;28;01mimport\u001b[39;00m RendererAgg \u001b[38;5;28;01mas\u001b[39;00m _RendererAgg\n\u001b[1;32m---> 47\u001b[0m \u001b[38;5;28;01mfrom\u001b[39;00m \u001b[38;5;21;01mmatplotlib\u001b[39;00m\u001b[38;5;21;01m.\u001b[39;00m\u001b[38;5;21;01mbackend_bases\u001b[39;00m \u001b[38;5;28;01mimport\u001b[39;00m _has_pil\n\u001b[0;32m     49\u001b[0m \u001b[38;5;28;01mif\u001b[39;00m _has_pil:\n\u001b[0;32m     50\u001b[0m     \u001b[38;5;28;01mfrom\u001b[39;00m \u001b[38;5;21;01mPIL\u001b[39;00m \u001b[38;5;28;01mimport\u001b[39;00m Image\n",
      "\u001b[1;31mImportError\u001b[0m: cannot import name '_has_pil' from 'matplotlib.backend_bases' (c:\\Project_git\\MLproject\\venv\\lib\\site-packages\\matplotlib\\backend_bases.py)"
     ]
    }
   ],
   "source": [
    "import matplotlib.pyplot as plt\n",
    "\n",
    "plt.plot([1, 2, 3], [4, 5, 6])\n",
    "plt.title(\"Matplotlib is working 🎉\")\n",
    "plt.show()\n"
   ]
  }
 ],
 "metadata": {
  "kernelspec": {
   "display_name": "Python 3",
   "language": "python",
   "name": "python3"
  },
  "language_info": {
   "codemirror_mode": {
    "name": "ipython",
    "version": 3
   },
   "file_extension": ".py",
   "mimetype": "text/x-python",
   "name": "python",
   "nbconvert_exporter": "python",
   "pygments_lexer": "ipython3",
   "version": "3.8.0"
  }
 },
 "nbformat": 4,
 "nbformat_minor": 5
}
